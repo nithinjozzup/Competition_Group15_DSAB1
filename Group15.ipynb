{
 "cells": [
  {
   "cell_type": "markdown",
   "id": "8177d8b6",
   "metadata": {},
   "source": [
    "# Group 15-Air Pollution dataset"
   ]
  },
  {
   "cell_type": "markdown",
   "id": "25044bfc",
   "metadata": {},
   "source": [
    "# 1. Data Collection"
   ]
  },
  {
   "cell_type": "markdown",
   "id": "c330e9f3",
   "metadata": {},
   "source": [
    "# Importing libraries"
   ]
  },
  {
   "cell_type": "code",
   "execution_count": 1140,
   "id": "106e2a10",
   "metadata": {},
   "outputs": [],
   "source": [
    "#Importing libraries\n",
    "import numpy as np\n",
    "import pandas as pd\n",
    "import matplotlib.pyplot as plt\n",
    "import seaborn as sns"
   ]
  },
  {
   "cell_type": "code",
   "execution_count": 1141,
   "id": "f35ef90e",
   "metadata": {},
   "outputs": [],
   "source": [
    "#Importing .csv file\n",
    "df= pd.read_csv('Air_Pollution_data.csv')\n",
    "df1=df"
   ]
  },
  {
   "cell_type": "code",
   "execution_count": 1142,
   "id": "5398fff6",
   "metadata": {},
   "outputs": [
    {
     "data": {
      "text/html": [
       "<div>\n",
       "<style scoped>\n",
       "    .dataframe tbody tr th:only-of-type {\n",
       "        vertical-align: middle;\n",
       "    }\n",
       "\n",
       "    .dataframe tbody tr th {\n",
       "        vertical-align: top;\n",
       "    }\n",
       "\n",
       "    .dataframe thead th {\n",
       "        text-align: right;\n",
       "    }\n",
       "</style>\n",
       "<table border=\"1\" class=\"dataframe\">\n",
       "  <thead>\n",
       "    <tr style=\"text-align: right;\">\n",
       "      <th></th>\n",
       "      <th>City</th>\n",
       "      <th>PM2.5</th>\n",
       "      <th>NO</th>\n",
       "      <th>NO2</th>\n",
       "      <th>NOx</th>\n",
       "      <th>CO</th>\n",
       "      <th>SO2</th>\n",
       "      <th>O3</th>\n",
       "      <th>Benzene</th>\n",
       "      <th>Toluene</th>\n",
       "      <th>Xylene</th>\n",
       "      <th>AQI</th>\n",
       "      <th>AQI_Bucket</th>\n",
       "    </tr>\n",
       "  </thead>\n",
       "  <tbody>\n",
       "    <tr>\n",
       "      <th>0</th>\n",
       "      <td>Ahmedabad</td>\n",
       "      <td>83.13</td>\n",
       "      <td>6.93</td>\n",
       "      <td>28.71</td>\n",
       "      <td>33.72</td>\n",
       "      <td>6.93</td>\n",
       "      <td>49.52</td>\n",
       "      <td>59.76</td>\n",
       "      <td>0.02</td>\n",
       "      <td>0.00</td>\n",
       "      <td>3.14</td>\n",
       "      <td>209</td>\n",
       "      <td>Poor</td>\n",
       "    </tr>\n",
       "    <tr>\n",
       "      <th>1</th>\n",
       "      <td>Ahmedabad</td>\n",
       "      <td>79.84</td>\n",
       "      <td>13.85</td>\n",
       "      <td>28.68</td>\n",
       "      <td>41.08</td>\n",
       "      <td>13.85</td>\n",
       "      <td>48.49</td>\n",
       "      <td>97.07</td>\n",
       "      <td>0.04</td>\n",
       "      <td>0.00</td>\n",
       "      <td>4.81</td>\n",
       "      <td>328</td>\n",
       "      <td>Very Poor</td>\n",
       "    </tr>\n",
       "    <tr>\n",
       "      <th>2</th>\n",
       "      <td>Ahmedabad</td>\n",
       "      <td>94.52</td>\n",
       "      <td>24.39</td>\n",
       "      <td>32.66</td>\n",
       "      <td>52.61</td>\n",
       "      <td>24.39</td>\n",
       "      <td>67.39</td>\n",
       "      <td>111.33</td>\n",
       "      <td>0.24</td>\n",
       "      <td>0.01</td>\n",
       "      <td>7.67</td>\n",
       "      <td>514</td>\n",
       "      <td>Severe</td>\n",
       "    </tr>\n",
       "    <tr>\n",
       "      <th>3</th>\n",
       "      <td>Ahmedabad</td>\n",
       "      <td>135.99</td>\n",
       "      <td>43.48</td>\n",
       "      <td>42.08</td>\n",
       "      <td>84.57</td>\n",
       "      <td>43.48</td>\n",
       "      <td>75.23</td>\n",
       "      <td>102.70</td>\n",
       "      <td>0.40</td>\n",
       "      <td>0.04</td>\n",
       "      <td>25.87</td>\n",
       "      <td>782</td>\n",
       "      <td>Severe</td>\n",
       "    </tr>\n",
       "    <tr>\n",
       "      <th>4</th>\n",
       "      <td>Ahmedabad</td>\n",
       "      <td>178.33</td>\n",
       "      <td>54.56</td>\n",
       "      <td>35.31</td>\n",
       "      <td>72.80</td>\n",
       "      <td>54.56</td>\n",
       "      <td>55.04</td>\n",
       "      <td>107.38</td>\n",
       "      <td>0.46</td>\n",
       "      <td>0.06</td>\n",
       "      <td>35.61</td>\n",
       "      <td>914</td>\n",
       "      <td>Severe</td>\n",
       "    </tr>\n",
       "  </tbody>\n",
       "</table>\n",
       "</div>"
      ],
      "text/plain": [
       "        City   PM2.5     NO    NO2    NOx     CO    SO2      O3  Benzene  \\\n",
       "0  Ahmedabad   83.13   6.93  28.71  33.72   6.93  49.52   59.76     0.02   \n",
       "1  Ahmedabad   79.84  13.85  28.68  41.08  13.85  48.49   97.07     0.04   \n",
       "2  Ahmedabad   94.52  24.39  32.66  52.61  24.39  67.39  111.33     0.24   \n",
       "3  Ahmedabad  135.99  43.48  42.08  84.57  43.48  75.23  102.70     0.40   \n",
       "4  Ahmedabad  178.33  54.56  35.31  72.80  54.56  55.04  107.38     0.46   \n",
       "\n",
       "   Toluene  Xylene  AQI AQI_Bucket  \n",
       "0     0.00    3.14  209       Poor  \n",
       "1     0.00    4.81  328  Very Poor  \n",
       "2     0.01    7.67  514     Severe  \n",
       "3     0.04   25.87  782     Severe  \n",
       "4     0.06   35.61  914     Severe  "
      ]
     },
     "execution_count": 1142,
     "metadata": {},
     "output_type": "execute_result"
    }
   ],
   "source": [
    "df.head()"
   ]
  },
  {
   "cell_type": "markdown",
   "id": "8c4a7ec3",
   "metadata": {},
   "source": [
    "## The data set is Collected and read to Python."
   ]
  },
  {
   "cell_type": "markdown",
   "id": "77ec4ac9",
   "metadata": {},
   "source": [
    "# 2.Preprocessing"
   ]
  },
  {
   "cell_type": "markdown",
   "id": "cc66c264",
   "metadata": {},
   "source": [
    "# 2.1 Encoding"
   ]
  },
  {
   "cell_type": "markdown",
   "id": "67878a03",
   "metadata": {},
   "source": [
    "# Ordinal Encoding"
   ]
  },
  {
   "cell_type": "code",
   "execution_count": 1089,
   "id": "689135b9",
   "metadata": {},
   "outputs": [
    {
     "data": {
      "text/plain": [
       "Satisfactory    636\n",
       "Moderate        608\n",
       "Severe          544\n",
       "Poor            310\n",
       "Very Poor       253\n",
       "Good            148\n",
       "Name: AQI_Bucket, dtype: int64"
      ]
     },
     "execution_count": 1089,
     "metadata": {},
     "output_type": "execute_result"
    }
   ],
   "source": [
    "df['AQI_Bucket'].value_counts()"
   ]
  },
  {
   "cell_type": "code",
   "execution_count": 1090,
   "id": "f38ab865",
   "metadata": {},
   "outputs": [],
   "source": [
    "scale_mapper = {'Good':6,'Satisfactory':5,'Moderate':4,'Poor':3,'Very Poor':2,'Severe':1}\n",
    "df['AQI_Bucket'] = df['AQI_Bucket'].replace(scale_mapper)"
   ]
  },
  {
   "cell_type": "code",
   "execution_count": 1091,
   "id": "8433d837",
   "metadata": {},
   "outputs": [
    {
     "data": {
      "text/html": [
       "<div>\n",
       "<style scoped>\n",
       "    .dataframe tbody tr th:only-of-type {\n",
       "        vertical-align: middle;\n",
       "    }\n",
       "\n",
       "    .dataframe tbody tr th {\n",
       "        vertical-align: top;\n",
       "    }\n",
       "\n",
       "    .dataframe thead th {\n",
       "        text-align: right;\n",
       "    }\n",
       "</style>\n",
       "<table border=\"1\" class=\"dataframe\">\n",
       "  <thead>\n",
       "    <tr style=\"text-align: right;\">\n",
       "      <th></th>\n",
       "      <th>City</th>\n",
       "      <th>PM2.5</th>\n",
       "      <th>NO</th>\n",
       "      <th>NO2</th>\n",
       "      <th>NOx</th>\n",
       "      <th>CO</th>\n",
       "      <th>SO2</th>\n",
       "      <th>O3</th>\n",
       "      <th>Benzene</th>\n",
       "      <th>Toluene</th>\n",
       "      <th>Xylene</th>\n",
       "      <th>AQI</th>\n",
       "      <th>AQI_Bucket</th>\n",
       "    </tr>\n",
       "  </thead>\n",
       "  <tbody>\n",
       "    <tr>\n",
       "      <th>0</th>\n",
       "      <td>Ahmedabad</td>\n",
       "      <td>83.13</td>\n",
       "      <td>6.93</td>\n",
       "      <td>28.71</td>\n",
       "      <td>33.72</td>\n",
       "      <td>6.93</td>\n",
       "      <td>49.52</td>\n",
       "      <td>59.76</td>\n",
       "      <td>0.02</td>\n",
       "      <td>0.00</td>\n",
       "      <td>3.14</td>\n",
       "      <td>209</td>\n",
       "      <td>3</td>\n",
       "    </tr>\n",
       "    <tr>\n",
       "      <th>1</th>\n",
       "      <td>Ahmedabad</td>\n",
       "      <td>79.84</td>\n",
       "      <td>13.85</td>\n",
       "      <td>28.68</td>\n",
       "      <td>41.08</td>\n",
       "      <td>13.85</td>\n",
       "      <td>48.49</td>\n",
       "      <td>97.07</td>\n",
       "      <td>0.04</td>\n",
       "      <td>0.00</td>\n",
       "      <td>4.81</td>\n",
       "      <td>328</td>\n",
       "      <td>2</td>\n",
       "    </tr>\n",
       "    <tr>\n",
       "      <th>2</th>\n",
       "      <td>Ahmedabad</td>\n",
       "      <td>94.52</td>\n",
       "      <td>24.39</td>\n",
       "      <td>32.66</td>\n",
       "      <td>52.61</td>\n",
       "      <td>24.39</td>\n",
       "      <td>67.39</td>\n",
       "      <td>111.33</td>\n",
       "      <td>0.24</td>\n",
       "      <td>0.01</td>\n",
       "      <td>7.67</td>\n",
       "      <td>514</td>\n",
       "      <td>1</td>\n",
       "    </tr>\n",
       "    <tr>\n",
       "      <th>3</th>\n",
       "      <td>Ahmedabad</td>\n",
       "      <td>135.99</td>\n",
       "      <td>43.48</td>\n",
       "      <td>42.08</td>\n",
       "      <td>84.57</td>\n",
       "      <td>43.48</td>\n",
       "      <td>75.23</td>\n",
       "      <td>102.70</td>\n",
       "      <td>0.40</td>\n",
       "      <td>0.04</td>\n",
       "      <td>25.87</td>\n",
       "      <td>782</td>\n",
       "      <td>1</td>\n",
       "    </tr>\n",
       "    <tr>\n",
       "      <th>4</th>\n",
       "      <td>Ahmedabad</td>\n",
       "      <td>178.33</td>\n",
       "      <td>54.56</td>\n",
       "      <td>35.31</td>\n",
       "      <td>72.80</td>\n",
       "      <td>54.56</td>\n",
       "      <td>55.04</td>\n",
       "      <td>107.38</td>\n",
       "      <td>0.46</td>\n",
       "      <td>0.06</td>\n",
       "      <td>35.61</td>\n",
       "      <td>914</td>\n",
       "      <td>1</td>\n",
       "    </tr>\n",
       "  </tbody>\n",
       "</table>\n",
       "</div>"
      ],
      "text/plain": [
       "        City   PM2.5     NO    NO2    NOx     CO    SO2      O3  Benzene  \\\n",
       "0  Ahmedabad   83.13   6.93  28.71  33.72   6.93  49.52   59.76     0.02   \n",
       "1  Ahmedabad   79.84  13.85  28.68  41.08  13.85  48.49   97.07     0.04   \n",
       "2  Ahmedabad   94.52  24.39  32.66  52.61  24.39  67.39  111.33     0.24   \n",
       "3  Ahmedabad  135.99  43.48  42.08  84.57  43.48  75.23  102.70     0.40   \n",
       "4  Ahmedabad  178.33  54.56  35.31  72.80  54.56  55.04  107.38     0.46   \n",
       "\n",
       "   Toluene  Xylene  AQI  AQI_Bucket  \n",
       "0     0.00    3.14  209           3  \n",
       "1     0.00    4.81  328           2  \n",
       "2     0.01    7.67  514           1  \n",
       "3     0.04   25.87  782           1  \n",
       "4     0.06   35.61  914           1  "
      ]
     },
     "execution_count": 1091,
     "metadata": {},
     "output_type": "execute_result"
    }
   ],
   "source": [
    "df.head()"
   ]
  },
  {
   "cell_type": "markdown",
   "id": "2d337514",
   "metadata": {},
   "source": [
    "# Insight\n",
    " ## we do ordinal encording so as to get a finite set of discrete values with a ranked ordering between values."
   ]
  },
  {
   "cell_type": "markdown",
   "id": "5c0d4c3d",
   "metadata": {},
   "source": [
    "# One Hot Encoding"
   ]
  },
  {
   "cell_type": "code",
   "execution_count": 1092,
   "id": "7b5b1b51",
   "metadata": {},
   "outputs": [
    {
     "data": {
      "text/plain": [
       "3"
      ]
     },
     "execution_count": 1092,
     "metadata": {},
     "output_type": "execute_result"
    }
   ],
   "source": [
    "df.City.nunique()"
   ]
  },
  {
   "cell_type": "code",
   "execution_count": 1093,
   "id": "f961b60e",
   "metadata": {},
   "outputs": [],
   "source": [
    "df=pd.get_dummies(df)"
   ]
  },
  {
   "cell_type": "code",
   "execution_count": 1094,
   "id": "11440bc7",
   "metadata": {
    "scrolled": true
   },
   "outputs": [
    {
     "data": {
      "text/html": [
       "<div>\n",
       "<style scoped>\n",
       "    .dataframe tbody tr th:only-of-type {\n",
       "        vertical-align: middle;\n",
       "    }\n",
       "\n",
       "    .dataframe tbody tr th {\n",
       "        vertical-align: top;\n",
       "    }\n",
       "\n",
       "    .dataframe thead th {\n",
       "        text-align: right;\n",
       "    }\n",
       "</style>\n",
       "<table border=\"1\" class=\"dataframe\">\n",
       "  <thead>\n",
       "    <tr style=\"text-align: right;\">\n",
       "      <th></th>\n",
       "      <th>PM2.5</th>\n",
       "      <th>NO</th>\n",
       "      <th>NO2</th>\n",
       "      <th>NOx</th>\n",
       "      <th>CO</th>\n",
       "      <th>SO2</th>\n",
       "      <th>O3</th>\n",
       "      <th>Benzene</th>\n",
       "      <th>Toluene</th>\n",
       "      <th>Xylene</th>\n",
       "      <th>AQI</th>\n",
       "      <th>AQI_Bucket</th>\n",
       "      <th>City_Ahmedabad</th>\n",
       "      <th>City_Amaravati</th>\n",
       "      <th>City_Amritsar</th>\n",
       "    </tr>\n",
       "  </thead>\n",
       "  <tbody>\n",
       "    <tr>\n",
       "      <th>0</th>\n",
       "      <td>83.13</td>\n",
       "      <td>6.93</td>\n",
       "      <td>28.71</td>\n",
       "      <td>33.72</td>\n",
       "      <td>6.93</td>\n",
       "      <td>49.52</td>\n",
       "      <td>59.76</td>\n",
       "      <td>0.02</td>\n",
       "      <td>0.00</td>\n",
       "      <td>3.14</td>\n",
       "      <td>209</td>\n",
       "      <td>3</td>\n",
       "      <td>1</td>\n",
       "      <td>0</td>\n",
       "      <td>0</td>\n",
       "    </tr>\n",
       "    <tr>\n",
       "      <th>1</th>\n",
       "      <td>79.84</td>\n",
       "      <td>13.85</td>\n",
       "      <td>28.68</td>\n",
       "      <td>41.08</td>\n",
       "      <td>13.85</td>\n",
       "      <td>48.49</td>\n",
       "      <td>97.07</td>\n",
       "      <td>0.04</td>\n",
       "      <td>0.00</td>\n",
       "      <td>4.81</td>\n",
       "      <td>328</td>\n",
       "      <td>2</td>\n",
       "      <td>1</td>\n",
       "      <td>0</td>\n",
       "      <td>0</td>\n",
       "    </tr>\n",
       "    <tr>\n",
       "      <th>2</th>\n",
       "      <td>94.52</td>\n",
       "      <td>24.39</td>\n",
       "      <td>32.66</td>\n",
       "      <td>52.61</td>\n",
       "      <td>24.39</td>\n",
       "      <td>67.39</td>\n",
       "      <td>111.33</td>\n",
       "      <td>0.24</td>\n",
       "      <td>0.01</td>\n",
       "      <td>7.67</td>\n",
       "      <td>514</td>\n",
       "      <td>1</td>\n",
       "      <td>1</td>\n",
       "      <td>0</td>\n",
       "      <td>0</td>\n",
       "    </tr>\n",
       "    <tr>\n",
       "      <th>3</th>\n",
       "      <td>135.99</td>\n",
       "      <td>43.48</td>\n",
       "      <td>42.08</td>\n",
       "      <td>84.57</td>\n",
       "      <td>43.48</td>\n",
       "      <td>75.23</td>\n",
       "      <td>102.70</td>\n",
       "      <td>0.40</td>\n",
       "      <td>0.04</td>\n",
       "      <td>25.87</td>\n",
       "      <td>782</td>\n",
       "      <td>1</td>\n",
       "      <td>1</td>\n",
       "      <td>0</td>\n",
       "      <td>0</td>\n",
       "    </tr>\n",
       "    <tr>\n",
       "      <th>4</th>\n",
       "      <td>178.33</td>\n",
       "      <td>54.56</td>\n",
       "      <td>35.31</td>\n",
       "      <td>72.80</td>\n",
       "      <td>54.56</td>\n",
       "      <td>55.04</td>\n",
       "      <td>107.38</td>\n",
       "      <td>0.46</td>\n",
       "      <td>0.06</td>\n",
       "      <td>35.61</td>\n",
       "      <td>914</td>\n",
       "      <td>1</td>\n",
       "      <td>1</td>\n",
       "      <td>0</td>\n",
       "      <td>0</td>\n",
       "    </tr>\n",
       "  </tbody>\n",
       "</table>\n",
       "</div>"
      ],
      "text/plain": [
       "    PM2.5     NO    NO2    NOx     CO    SO2      O3  Benzene  Toluene  \\\n",
       "0   83.13   6.93  28.71  33.72   6.93  49.52   59.76     0.02     0.00   \n",
       "1   79.84  13.85  28.68  41.08  13.85  48.49   97.07     0.04     0.00   \n",
       "2   94.52  24.39  32.66  52.61  24.39  67.39  111.33     0.24     0.01   \n",
       "3  135.99  43.48  42.08  84.57  43.48  75.23  102.70     0.40     0.04   \n",
       "4  178.33  54.56  35.31  72.80  54.56  55.04  107.38     0.46     0.06   \n",
       "\n",
       "   Xylene  AQI  AQI_Bucket  City_Ahmedabad  City_Amaravati  City_Amritsar  \n",
       "0    3.14  209           3               1               0              0  \n",
       "1    4.81  328           2               1               0              0  \n",
       "2    7.67  514           1               1               0              0  \n",
       "3   25.87  782           1               1               0              0  \n",
       "4   35.61  914           1               1               0              0  "
      ]
     },
     "execution_count": 1094,
     "metadata": {},
     "output_type": "execute_result"
    }
   ],
   "source": [
    "df.head()"
   ]
  },
  {
   "cell_type": "markdown",
   "id": "ca863f5d",
   "metadata": {},
   "source": [
    "# Insight\n",
    "## For categorical variables where no ordinal relationship exists we use One hot encoding and one new binary variable is added for each unique integer value in the variable."
   ]
  },
  {
   "cell_type": "markdown",
   "id": "fa7cfc9e",
   "metadata": {},
   "source": [
    "# 2.2 Missing value handling"
   ]
  },
  {
   "cell_type": "code",
   "execution_count": 1095,
   "id": "fb68aa82",
   "metadata": {},
   "outputs": [
    {
     "name": "stdout",
     "output_type": "stream",
     "text": [
      "<class 'pandas.core.frame.DataFrame'>\n",
      "RangeIndex: 2499 entries, 0 to 2498\n",
      "Data columns (total 15 columns):\n",
      " #   Column          Non-Null Count  Dtype  \n",
      "---  ------          --------------  -----  \n",
      " 0   PM2.5           2498 non-null   float64\n",
      " 1   NO              2499 non-null   float64\n",
      " 2   NO2             2499 non-null   float64\n",
      " 3   NOx             2498 non-null   float64\n",
      " 4   CO              2497 non-null   float64\n",
      " 5   SO2             2482 non-null   float64\n",
      " 6   O3              2475 non-null   float64\n",
      " 7   Benzene         2498 non-null   float64\n",
      " 8   Toluene         2498 non-null   float64\n",
      " 9   Xylene          2413 non-null   float64\n",
      " 10  AQI             2499 non-null   int64  \n",
      " 11  AQI_Bucket      2499 non-null   int64  \n",
      " 12  City_Ahmedabad  2499 non-null   uint8  \n",
      " 13  City_Amaravati  2499 non-null   uint8  \n",
      " 14  City_Amritsar   2499 non-null   uint8  \n",
      "dtypes: float64(10), int64(2), uint8(3)\n",
      "memory usage: 241.7 KB\n"
     ]
    }
   ],
   "source": [
    "df.info()"
   ]
  },
  {
   "cell_type": "code",
   "execution_count": 1096,
   "id": "c092ba9d",
   "metadata": {},
   "outputs": [
    {
     "data": {
      "text/plain": [
       "PM2.5              1\n",
       "NO                 0\n",
       "NO2                0\n",
       "NOx                1\n",
       "CO                 2\n",
       "SO2               17\n",
       "O3                24\n",
       "Benzene            1\n",
       "Toluene            1\n",
       "Xylene            86\n",
       "AQI                0\n",
       "AQI_Bucket         0\n",
       "City_Ahmedabad     0\n",
       "City_Amaravati     0\n",
       "City_Amritsar      0\n",
       "dtype: int64"
      ]
     },
     "execution_count": 1096,
     "metadata": {},
     "output_type": "execute_result"
    }
   ],
   "source": [
    "df.isna().sum()"
   ]
  },
  {
   "cell_type": "code",
   "execution_count": 1097,
   "id": "f5d65cbb",
   "metadata": {},
   "outputs": [
    {
     "data": {
      "text/plain": [
       "(2499, 15)"
      ]
     },
     "execution_count": 1097,
     "metadata": {},
     "output_type": "execute_result"
    }
   ],
   "source": [
    "df.shape"
   ]
  },
  {
   "cell_type": "code",
   "execution_count": 1098,
   "id": "9eb7fd16",
   "metadata": {},
   "outputs": [
    {
     "data": {
      "text/html": [
       "<div>\n",
       "<style scoped>\n",
       "    .dataframe tbody tr th:only-of-type {\n",
       "        vertical-align: middle;\n",
       "    }\n",
       "\n",
       "    .dataframe tbody tr th {\n",
       "        vertical-align: top;\n",
       "    }\n",
       "\n",
       "    .dataframe thead th {\n",
       "        text-align: right;\n",
       "    }\n",
       "</style>\n",
       "<table border=\"1\" class=\"dataframe\">\n",
       "  <thead>\n",
       "    <tr style=\"text-align: right;\">\n",
       "      <th></th>\n",
       "      <th>PM2.5</th>\n",
       "      <th>NO</th>\n",
       "      <th>NO2</th>\n",
       "      <th>NOx</th>\n",
       "      <th>CO</th>\n",
       "      <th>SO2</th>\n",
       "      <th>O3</th>\n",
       "      <th>Benzene</th>\n",
       "      <th>Toluene</th>\n",
       "      <th>Xylene</th>\n",
       "      <th>AQI</th>\n",
       "      <th>AQI_Bucket</th>\n",
       "      <th>City_Ahmedabad</th>\n",
       "      <th>City_Amaravati</th>\n",
       "      <th>City_Amritsar</th>\n",
       "    </tr>\n",
       "  </thead>\n",
       "  <tbody>\n",
       "    <tr>\n",
       "      <th>count</th>\n",
       "      <td>2498.000000</td>\n",
       "      <td>2499.000000</td>\n",
       "      <td>2499.000000</td>\n",
       "      <td>2498.000000</td>\n",
       "      <td>2497.000000</td>\n",
       "      <td>2482.000000</td>\n",
       "      <td>2475.000000</td>\n",
       "      <td>2498.000000</td>\n",
       "      <td>2498.000000</td>\n",
       "      <td>2413.000000</td>\n",
       "      <td>2499.000000</td>\n",
       "      <td>2499.000000</td>\n",
       "      <td>2499.000000</td>\n",
       "      <td>2499.000000</td>\n",
       "      <td>2499.000000</td>\n",
       "    </tr>\n",
       "    <tr>\n",
       "      <th>mean</th>\n",
       "      <td>57.310997</td>\n",
       "      <td>16.235266</td>\n",
       "      <td>38.625854</td>\n",
       "      <td>35.231009</td>\n",
       "      <td>10.102519</td>\n",
       "      <td>32.107808</td>\n",
       "      <td>35.001139</td>\n",
       "      <td>3.746341</td>\n",
       "      <td>15.627706</td>\n",
       "      <td>4.010825</td>\n",
       "      <td>265.727491</td>\n",
       "      <td>3.393357</td>\n",
       "      <td>0.464986</td>\n",
       "      <td>0.291317</td>\n",
       "      <td>0.243697</td>\n",
       "    </tr>\n",
       "    <tr>\n",
       "      <th>std</th>\n",
       "      <td>36.386025</td>\n",
       "      <td>16.615208</td>\n",
       "      <td>37.896668</td>\n",
       "      <td>28.036453</td>\n",
       "      <td>16.216755</td>\n",
       "      <td>34.632183</td>\n",
       "      <td>20.144132</td>\n",
       "      <td>5.255750</td>\n",
       "      <td>22.264436</td>\n",
       "      <td>5.570038</td>\n",
       "      <td>260.501571</td>\n",
       "      <td>1.616361</td>\n",
       "      <td>0.498872</td>\n",
       "      <td>0.454460</td>\n",
       "      <td>0.429398</td>\n",
       "    </tr>\n",
       "    <tr>\n",
       "      <th>min</th>\n",
       "      <td>3.040000</td>\n",
       "      <td>0.060000</td>\n",
       "      <td>0.080000</td>\n",
       "      <td>0.860000</td>\n",
       "      <td>0.000000</td>\n",
       "      <td>0.520000</td>\n",
       "      <td>0.380000</td>\n",
       "      <td>0.000000</td>\n",
       "      <td>0.000000</td>\n",
       "      <td>0.000000</td>\n",
       "      <td>24.000000</td>\n",
       "      <td>1.000000</td>\n",
       "      <td>0.000000</td>\n",
       "      <td>0.000000</td>\n",
       "      <td>0.000000</td>\n",
       "    </tr>\n",
       "    <tr>\n",
       "      <th>25%</th>\n",
       "      <td>30.862500</td>\n",
       "      <td>4.780000</td>\n",
       "      <td>11.825000</td>\n",
       "      <td>16.240000</td>\n",
       "      <td>0.590000</td>\n",
       "      <td>9.762500</td>\n",
       "      <td>20.900000</td>\n",
       "      <td>0.290000</td>\n",
       "      <td>1.160000</td>\n",
       "      <td>0.180000</td>\n",
       "      <td>87.000000</td>\n",
       "      <td>2.000000</td>\n",
       "      <td>0.000000</td>\n",
       "      <td>0.000000</td>\n",
       "      <td>0.000000</td>\n",
       "    </tr>\n",
       "    <tr>\n",
       "      <th>50%</th>\n",
       "      <td>48.385000</td>\n",
       "      <td>11.110000</td>\n",
       "      <td>22.130000</td>\n",
       "      <td>26.670000</td>\n",
       "      <td>1.100000</td>\n",
       "      <td>16.305000</td>\n",
       "      <td>31.670000</td>\n",
       "      <td>2.025000</td>\n",
       "      <td>3.840000</td>\n",
       "      <td>1.960000</td>\n",
       "      <td>170.000000</td>\n",
       "      <td>4.000000</td>\n",
       "      <td>0.000000</td>\n",
       "      <td>0.000000</td>\n",
       "      <td>0.000000</td>\n",
       "    </tr>\n",
       "    <tr>\n",
       "      <th>75%</th>\n",
       "      <td>77.330000</td>\n",
       "      <td>20.845000</td>\n",
       "      <td>54.325000</td>\n",
       "      <td>47.550000</td>\n",
       "      <td>14.070000</td>\n",
       "      <td>43.342500</td>\n",
       "      <td>45.105000</td>\n",
       "      <td>4.527500</td>\n",
       "      <td>28.507500</td>\n",
       "      <td>6.930000</td>\n",
       "      <td>351.500000</td>\n",
       "      <td>5.000000</td>\n",
       "      <td>1.000000</td>\n",
       "      <td>1.000000</td>\n",
       "      <td>0.000000</td>\n",
       "    </tr>\n",
       "    <tr>\n",
       "      <th>max</th>\n",
       "      <td>249.100000</td>\n",
       "      <td>108.990000</td>\n",
       "      <td>203.410000</td>\n",
       "      <td>166.230000</td>\n",
       "      <td>108.990000</td>\n",
       "      <td>167.130000</td>\n",
       "      <td>133.140000</td>\n",
       "      <td>49.700000</td>\n",
       "      <td>143.010000</td>\n",
       "      <td>49.930000</td>\n",
       "      <td>1577.000000</td>\n",
       "      <td>6.000000</td>\n",
       "      <td>1.000000</td>\n",
       "      <td>1.000000</td>\n",
       "      <td>1.000000</td>\n",
       "    </tr>\n",
       "  </tbody>\n",
       "</table>\n",
       "</div>"
      ],
      "text/plain": [
       "             PM2.5           NO          NO2          NOx           CO  \\\n",
       "count  2498.000000  2499.000000  2499.000000  2498.000000  2497.000000   \n",
       "mean     57.310997    16.235266    38.625854    35.231009    10.102519   \n",
       "std      36.386025    16.615208    37.896668    28.036453    16.216755   \n",
       "min       3.040000     0.060000     0.080000     0.860000     0.000000   \n",
       "25%      30.862500     4.780000    11.825000    16.240000     0.590000   \n",
       "50%      48.385000    11.110000    22.130000    26.670000     1.100000   \n",
       "75%      77.330000    20.845000    54.325000    47.550000    14.070000   \n",
       "max     249.100000   108.990000   203.410000   166.230000   108.990000   \n",
       "\n",
       "               SO2           O3      Benzene      Toluene       Xylene  \\\n",
       "count  2482.000000  2475.000000  2498.000000  2498.000000  2413.000000   \n",
       "mean     32.107808    35.001139     3.746341    15.627706     4.010825   \n",
       "std      34.632183    20.144132     5.255750    22.264436     5.570038   \n",
       "min       0.520000     0.380000     0.000000     0.000000     0.000000   \n",
       "25%       9.762500    20.900000     0.290000     1.160000     0.180000   \n",
       "50%      16.305000    31.670000     2.025000     3.840000     1.960000   \n",
       "75%      43.342500    45.105000     4.527500    28.507500     6.930000   \n",
       "max     167.130000   133.140000    49.700000   143.010000    49.930000   \n",
       "\n",
       "               AQI   AQI_Bucket  City_Ahmedabad  City_Amaravati  City_Amritsar  \n",
       "count  2499.000000  2499.000000     2499.000000     2499.000000    2499.000000  \n",
       "mean    265.727491     3.393357        0.464986        0.291317       0.243697  \n",
       "std     260.501571     1.616361        0.498872        0.454460       0.429398  \n",
       "min      24.000000     1.000000        0.000000        0.000000       0.000000  \n",
       "25%      87.000000     2.000000        0.000000        0.000000       0.000000  \n",
       "50%     170.000000     4.000000        0.000000        0.000000       0.000000  \n",
       "75%     351.500000     5.000000        1.000000        1.000000       0.000000  \n",
       "max    1577.000000     6.000000        1.000000        1.000000       1.000000  "
      ]
     },
     "execution_count": 1098,
     "metadata": {},
     "output_type": "execute_result"
    }
   ],
   "source": [
    "df.describe()"
   ]
  },
  {
   "cell_type": "code",
   "execution_count": 1099,
   "id": "5aeb5060",
   "metadata": {},
   "outputs": [
    {
     "data": {
      "image/png": "[encoded data removed]",
      "text/plain": [
       "<Figure size 1440x1080 with 12 Axes>"
      ]
     },
     "metadata": {
      "needs_background": "light"
     },
     "output_type": "display_data"
    }
   ],
   "source": [
    "freqgraph=df.select_dtypes(include=['float'])\n",
    "freqgraph.hist(figsize=(20,15))\n",
    "plt.show()"
   ]
  },
  {
   "cell_type": "markdown",
   "id": "0ad28904",
   "metadata": {},
   "source": [
    "# Insight \n",
    "## All the data following right skewed distribution."
   ]
  },
  {
   "cell_type": "code",
   "execution_count": 1100,
   "id": "f9c50343",
   "metadata": {},
   "outputs": [
    {
     "data": {
      "text/plain": [
       "Index(['PM2.5', 'NO', 'NO2', 'NOx', 'CO', 'SO2', 'O3', 'Benzene', 'Toluene',\n",
       "       'Xylene', 'AQI', 'AQI_Bucket', 'City_Ahmedabad', 'City_Amaravati',\n",
       "       'City_Amritsar'],\n",
       "      dtype='object')"
      ]
     },
     "execution_count": 1100,
     "metadata": {},
     "output_type": "execute_result"
    }
   ],
   "source": [
    "df.columns"
   ]
  },
  {
   "cell_type": "code",
   "execution_count": 1101,
   "id": "15136b75",
   "metadata": {},
   "outputs": [],
   "source": [
    "from sklearn.impute import KNNImputer\n",
    "imputer = KNNImputer(n_neighbors=2)\n",
    "df = pd.DataFrame(imputer.fit_transform(df),columns = df.columns)"
   ]
  },
  {
   "cell_type": "code",
   "execution_count": 1102,
   "id": "ae6f5c54",
   "metadata": {},
   "outputs": [
    {
     "data": {
      "text/plain": [
       "PM2.5             0\n",
       "NO                0\n",
       "NO2               0\n",
       "NOx               0\n",
       "CO                0\n",
       "SO2               0\n",
       "O3                0\n",
       "Benzene           0\n",
       "Toluene           0\n",
       "Xylene            0\n",
       "AQI               0\n",
       "AQI_Bucket        0\n",
       "City_Ahmedabad    0\n",
       "City_Amaravati    0\n",
       "City_Amritsar     0\n",
       "dtype: int64"
      ]
     },
     "execution_count": 1102,
     "metadata": {},
     "output_type": "execute_result"
    }
   ],
   "source": [
    "df.isna().sum()"
   ]
  },
  {
   "cell_type": "markdown",
   "id": "d7c06c29",
   "metadata": {},
   "source": [
    "# Insight\n",
    "## The missing values are handled using KNNImputer"
   ]
  },
  {
   "cell_type": "markdown",
   "id": "afbbbc6c",
   "metadata": {},
   "source": [
    "# 2.3 Outlier detection and handling"
   ]
  },
  {
   "cell_type": "code",
   "execution_count": 1103,
   "id": "7f437c6f",
   "metadata": {},
   "outputs": [
    {
     "data": {
      "text/plain": [
       "{'whiskers': [<matplotlib.lines.Line2D at 0x19fe0c42af0>,\n",
       "  <matplotlib.lines.Line2D at 0x19fe0c42e50>,\n",
       "  <matplotlib.lines.Line2D at 0x19fe059c2e0>,\n",
       "  <matplotlib.lines.Line2D at 0x19fe059c610>,\n",
       "  <matplotlib.lines.Line2D at 0x19fe05a9970>,\n",
       "  <matplotlib.lines.Line2D at 0x19fe05a9ca0>,\n",
       "  <matplotlib.lines.Line2D at 0x19fe05c3040>,\n",
       "  <matplotlib.lines.Line2D at 0x19fe05c3370>,\n",
       "  <matplotlib.lines.Line2D at 0x19fe05ce6d0>,\n",
       "  <matplotlib.lines.Line2D at 0x19fe05cea00>,\n",
       "  <matplotlib.lines.Line2D at 0x19fe05dbd60>,\n",
       "  <matplotlib.lines.Line2D at 0x19fe05e90d0>,\n",
       "  <matplotlib.lines.Line2D at 0x19fe05f6430>,\n",
       "  <matplotlib.lines.Line2D at 0x19fe05f6760>,\n",
       "  <matplotlib.lines.Line2D at 0x19fe0602ac0>,\n",
       "  <matplotlib.lines.Line2D at 0x19fe0602df0>,\n",
       "  <matplotlib.lines.Line2D at 0x19fe061b190>,\n",
       "  <matplotlib.lines.Line2D at 0x19fe061b4c0>,\n",
       "  <matplotlib.lines.Line2D at 0x19fe0628820>,\n",
       "  <matplotlib.lines.Line2D at 0x19fe0628b50>,\n",
       "  <matplotlib.lines.Line2D at 0x19fe0634eb0>,\n",
       "  <matplotlib.lines.Line2D at 0x19fe0641220>],\n",
       " 'caps': [<matplotlib.lines.Line2D at 0x19fe05911f0>,\n",
       "  <matplotlib.lines.Line2D at 0x19fe0591550>,\n",
       "  <matplotlib.lines.Line2D at 0x19fe059c940>,\n",
       "  <matplotlib.lines.Line2D at 0x19fe059cc70>,\n",
       "  <matplotlib.lines.Line2D at 0x19fe05a9fd0>,\n",
       "  <matplotlib.lines.Line2D at 0x19fe05b7340>,\n",
       "  <matplotlib.lines.Line2D at 0x19fe05c36a0>,\n",
       "  <matplotlib.lines.Line2D at 0x19fe05c39d0>,\n",
       "  <matplotlib.lines.Line2D at 0x19fe05ced30>,\n",
       "  <matplotlib.lines.Line2D at 0x19fe05db0a0>,\n",
       "  <matplotlib.lines.Line2D at 0x19fe05e9400>,\n",
       "  <matplotlib.lines.Line2D at 0x19fe05e9730>,\n",
       "  <matplotlib.lines.Line2D at 0x19fe05f6a90>,\n",
       "  <matplotlib.lines.Line2D at 0x19fe05f6dc0>,\n",
       "  <matplotlib.lines.Line2D at 0x19fe060e160>,\n",
       "  <matplotlib.lines.Line2D at 0x19fe060e490>,\n",
       "  <matplotlib.lines.Line2D at 0x19fe061b7f0>,\n",
       "  <matplotlib.lines.Line2D at 0x19fe061bb20>,\n",
       "  <matplotlib.lines.Line2D at 0x19fe0628e80>,\n",
       "  <matplotlib.lines.Line2D at 0x19fe06341f0>,\n",
       "  <matplotlib.lines.Line2D at 0x19fe0641550>,\n",
       "  <matplotlib.lines.Line2D at 0x19fe0641880>],\n",
       " 'boxes': [<matplotlib.lines.Line2D at 0x19fe0c42790>,\n",
       "  <matplotlib.lines.Line2D at 0x19fe0591f70>,\n",
       "  <matplotlib.lines.Line2D at 0x19fe05a9640>,\n",
       "  <matplotlib.lines.Line2D at 0x19fe05b7cd0>,\n",
       "  <matplotlib.lines.Line2D at 0x19fe05ce3a0>,\n",
       "  <matplotlib.lines.Line2D at 0x19fe05dba30>,\n",
       "  <matplotlib.lines.Line2D at 0x19fe05f6100>,\n",
       "  <matplotlib.lines.Line2D at 0x19fe0602790>,\n",
       "  <matplotlib.lines.Line2D at 0x19fe060ee20>,\n",
       "  <matplotlib.lines.Line2D at 0x19fe06284f0>,\n",
       "  <matplotlib.lines.Line2D at 0x19fe0634b80>],\n",
       " 'medians': [<matplotlib.lines.Line2D at 0x19fe05918b0>,\n",
       "  <matplotlib.lines.Line2D at 0x19fe059cfa0>,\n",
       "  <matplotlib.lines.Line2D at 0x19fe05b7670>,\n",
       "  <matplotlib.lines.Line2D at 0x19fe05c3d00>,\n",
       "  <matplotlib.lines.Line2D at 0x19fe05db3d0>,\n",
       "  <matplotlib.lines.Line2D at 0x19fe05e9a60>,\n",
       "  <matplotlib.lines.Line2D at 0x19fe0602130>,\n",
       "  <matplotlib.lines.Line2D at 0x19fe060e7c0>,\n",
       "  <matplotlib.lines.Line2D at 0x19fe061be50>,\n",
       "  <matplotlib.lines.Line2D at 0x19fe0634520>,\n",
       "  <matplotlib.lines.Line2D at 0x19fe0641bb0>],\n",
       " 'fliers': [<matplotlib.lines.Line2D at 0x19fe0591c10>,\n",
       "  <matplotlib.lines.Line2D at 0x19fe05a9310>,\n",
       "  <matplotlib.lines.Line2D at 0x19fe05b79a0>,\n",
       "  <matplotlib.lines.Line2D at 0x19fe05ce070>,\n",
       "  <matplotlib.lines.Line2D at 0x19fe05db700>,\n",
       "  <matplotlib.lines.Line2D at 0x19fe05e9d90>,\n",
       "  <matplotlib.lines.Line2D at 0x19fe0602460>,\n",
       "  <matplotlib.lines.Line2D at 0x19fe060eaf0>,\n",
       "  <matplotlib.lines.Line2D at 0x19fe06281c0>,\n",
       "  <matplotlib.lines.Line2D at 0x19fe0634850>,\n",
       "  <matplotlib.lines.Line2D at 0x19fe0641ee0>],\n",
       " 'means': []}"
      ]
     },
     "execution_count": 1103,
     "metadata": {},
     "output_type": "execute_result"
    },
    {
     "data": {
      "image/png": "[encoded data removed]",
      "text/plain": [
       "<Figure size 432x288 with 1 Axes>"
      ]
     },
     "metadata": {
      "needs_background": "light"
     },
     "output_type": "display_data"
    }
   ],
   "source": [
    "plt.boxplot(df[['PM2.5', 'NO', 'NO2', 'NOx', 'CO', 'SO2', 'O3', 'Benzene',\n",
    "       'Toluene', 'Xylene', 'AQI']])"
   ]
  },
  {
   "cell_type": "markdown",
   "id": "843d9184",
   "metadata": {},
   "source": [
    "# Insight\n",
    "## outlier removal not possible because of heavy data loss."
   ]
  },
  {
   "cell_type": "markdown",
   "id": "dc22e2bd",
   "metadata": {},
   "source": [
    "# 2.4 Feature engineering"
   ]
  },
  {
   "cell_type": "code",
   "execution_count": 1104,
   "id": "686e6851",
   "metadata": {},
   "outputs": [
    {
     "data": {
      "text/plain": [
       "Index(['PM2.5', 'NO', 'NO2', 'NOx', 'CO', 'SO2', 'O3', 'Benzene', 'Toluene',\n",
       "       'Xylene', 'AQI', 'AQI_Bucket', 'City_Ahmedabad', 'City_Amaravati',\n",
       "       'City_Amritsar'],\n",
       "      dtype='object')"
      ]
     },
     "execution_count": 1104,
     "metadata": {},
     "output_type": "execute_result"
    }
   ],
   "source": [
    "df.columns"
   ]
  },
  {
   "cell_type": "code",
   "execution_count": 1105,
   "id": "b4749fcd",
   "metadata": {},
   "outputs": [],
   "source": [
    "df['mean_nox']=df[['NO', 'NO2', 'NOx']].mean(axis=1)\n",
    "df['sum_nox']=df[['NO', 'NO2', 'NOx']].sum(axis=1)\n",
    "df['skew_nox']=df[['NO', 'NO2', 'NOx']].skew(axis=1)"
   ]
  },
  {
   "cell_type": "markdown",
   "id": "a794a386",
   "metadata": {},
   "source": [
    "# Insight\n",
    "## 3 new features are added mean_nox, sum_nox and skew_nox."
   ]
  },
  {
   "cell_type": "markdown",
   "id": "632cedee",
   "metadata": {},
   "source": [
    "# 2.5 Feature reduction"
   ]
  },
  {
   "cell_type": "code",
   "execution_count": 1106,
   "id": "a49a13e5",
   "metadata": {},
   "outputs": [
    {
     "data": {
      "text/plain": [
       "<AxesSubplot:>"
      ]
     },
     "execution_count": 1106,
     "metadata": {},
     "output_type": "execute_result"
    },
    {
     "data": {
      "image/png": "[encoded data removed]",
      "text/plain": [
       "<Figure size 720x288 with 2 Axes>"
      ]
     },
     "metadata": {
      "needs_background": "light"
     },
     "output_type": "display_data"
    }
   ],
   "source": [
    "corrvalue = df.corr()\n",
    "plt.subplots(figsize=(10,4))\n",
    "sns.heatmap(corrvalue,vmin=-2,vmax=2,annot=True,linewidth=0.2)"
   ]
  },
  {
   "cell_type": "markdown",
   "id": "eb4bb611",
   "metadata": {},
   "source": [
    "# Insight\n",
    "## mean_nox and sum_nox has high correlation with NOx hence we remove them"
   ]
  },
  {
   "cell_type": "code",
   "execution_count": 1107,
   "id": "4f6c0fd6",
   "metadata": {},
   "outputs": [],
   "source": [
    "df.drop(['mean_nox','sum_nox'],axis=1,inplace=True)"
   ]
  },
  {
   "cell_type": "code",
   "execution_count": 1108,
   "id": "b4713327",
   "metadata": {},
   "outputs": [
    {
     "data": {
      "text/html": [
       "<div>\n",
       "<style scoped>\n",
       "    .dataframe tbody tr th:only-of-type {\n",
       "        vertical-align: middle;\n",
       "    }\n",
       "\n",
       "    .dataframe tbody tr th {\n",
       "        vertical-align: top;\n",
       "    }\n",
       "\n",
       "    .dataframe thead th {\n",
       "        text-align: right;\n",
       "    }\n",
       "</style>\n",
       "<table border=\"1\" class=\"dataframe\">\n",
       "  <thead>\n",
       "    <tr style=\"text-align: right;\">\n",
       "      <th></th>\n",
       "      <th>PM2.5</th>\n",
       "      <th>NO</th>\n",
       "      <th>NO2</th>\n",
       "      <th>NOx</th>\n",
       "      <th>CO</th>\n",
       "      <th>SO2</th>\n",
       "      <th>O3</th>\n",
       "      <th>Benzene</th>\n",
       "      <th>Toluene</th>\n",
       "      <th>Xylene</th>\n",
       "      <th>AQI</th>\n",
       "      <th>AQI_Bucket</th>\n",
       "      <th>City_Ahmedabad</th>\n",
       "      <th>City_Amaravati</th>\n",
       "      <th>City_Amritsar</th>\n",
       "      <th>skew_nox</th>\n",
       "    </tr>\n",
       "  </thead>\n",
       "  <tbody>\n",
       "    <tr>\n",
       "      <th>0</th>\n",
       "      <td>83.13</td>\n",
       "      <td>6.93</td>\n",
       "      <td>28.71</td>\n",
       "      <td>33.72</td>\n",
       "      <td>6.93</td>\n",
       "      <td>49.52</td>\n",
       "      <td>59.76</td>\n",
       "      <td>0.02</td>\n",
       "      <td>0.00</td>\n",
       "      <td>3.14</td>\n",
       "      <td>209.0</td>\n",
       "      <td>3.0</td>\n",
       "      <td>1.0</td>\n",
       "      <td>0.0</td>\n",
       "      <td>0.0</td>\n",
       "      <td>-1.494086</td>\n",
       "    </tr>\n",
       "    <tr>\n",
       "      <th>1</th>\n",
       "      <td>79.84</td>\n",
       "      <td>13.85</td>\n",
       "      <td>28.68</td>\n",
       "      <td>41.08</td>\n",
       "      <td>13.85</td>\n",
       "      <td>48.49</td>\n",
       "      <td>97.07</td>\n",
       "      <td>0.04</td>\n",
       "      <td>0.00</td>\n",
       "      <td>4.81</td>\n",
       "      <td>328.0</td>\n",
       "      <td>2.0</td>\n",
       "      <td>1.0</td>\n",
       "      <td>0.0</td>\n",
       "      <td>0.0</td>\n",
       "      <td>-0.266421</td>\n",
       "    </tr>\n",
       "    <tr>\n",
       "      <th>2</th>\n",
       "      <td>94.52</td>\n",
       "      <td>24.39</td>\n",
       "      <td>32.66</td>\n",
       "      <td>52.61</td>\n",
       "      <td>24.39</td>\n",
       "      <td>67.39</td>\n",
       "      <td>111.33</td>\n",
       "      <td>0.24</td>\n",
       "      <td>0.01</td>\n",
       "      <td>7.67</td>\n",
       "      <td>514.0</td>\n",
       "      <td>1.0</td>\n",
       "      <td>1.0</td>\n",
       "      <td>0.0</td>\n",
       "      <td>0.0</td>\n",
       "      <td>1.120691</td>\n",
       "    </tr>\n",
       "    <tr>\n",
       "      <th>3</th>\n",
       "      <td>135.99</td>\n",
       "      <td>43.48</td>\n",
       "      <td>42.08</td>\n",
       "      <td>84.57</td>\n",
       "      <td>43.48</td>\n",
       "      <td>75.23</td>\n",
       "      <td>102.70</td>\n",
       "      <td>0.40</td>\n",
       "      <td>0.04</td>\n",
       "      <td>25.87</td>\n",
       "      <td>782.0</td>\n",
       "      <td>1.0</td>\n",
       "      <td>1.0</td>\n",
       "      <td>0.0</td>\n",
       "      <td>0.0</td>\n",
       "      <td>1.725498</td>\n",
       "    </tr>\n",
       "    <tr>\n",
       "      <th>4</th>\n",
       "      <td>178.33</td>\n",
       "      <td>54.56</td>\n",
       "      <td>35.31</td>\n",
       "      <td>72.80</td>\n",
       "      <td>54.56</td>\n",
       "      <td>55.04</td>\n",
       "      <td>107.38</td>\n",
       "      <td>0.46</td>\n",
       "      <td>0.06</td>\n",
       "      <td>35.61</td>\n",
       "      <td>914.0</td>\n",
       "      <td>1.0</td>\n",
       "      <td>1.0</td>\n",
       "      <td>0.0</td>\n",
       "      <td>0.0</td>\n",
       "      <td>-0.080786</td>\n",
       "    </tr>\n",
       "  </tbody>\n",
       "</table>\n",
       "</div>"
      ],
      "text/plain": [
       "    PM2.5     NO    NO2    NOx     CO    SO2      O3  Benzene  Toluene  \\\n",
       "0   83.13   6.93  28.71  33.72   6.93  49.52   59.76     0.02     0.00   \n",
       "1   79.84  13.85  28.68  41.08  13.85  48.49   97.07     0.04     0.00   \n",
       "2   94.52  24.39  32.66  52.61  24.39  67.39  111.33     0.24     0.01   \n",
       "3  135.99  43.48  42.08  84.57  43.48  75.23  102.70     0.40     0.04   \n",
       "4  178.33  54.56  35.31  72.80  54.56  55.04  107.38     0.46     0.06   \n",
       "\n",
       "   Xylene    AQI  AQI_Bucket  City_Ahmedabad  City_Amaravati  City_Amritsar  \\\n",
       "0    3.14  209.0         3.0             1.0             0.0            0.0   \n",
       "1    4.81  328.0         2.0             1.0             0.0            0.0   \n",
       "2    7.67  514.0         1.0             1.0             0.0            0.0   \n",
       "3   25.87  782.0         1.0             1.0             0.0            0.0   \n",
       "4   35.61  914.0         1.0             1.0             0.0            0.0   \n",
       "\n",
       "   skew_nox  \n",
       "0 -1.494086  \n",
       "1 -0.266421  \n",
       "2  1.120691  \n",
       "3  1.725498  \n",
       "4 -0.080786  "
      ]
     },
     "execution_count": 1108,
     "metadata": {},
     "output_type": "execute_result"
    }
   ],
   "source": [
    "df.head()"
   ]
  },
  {
   "cell_type": "markdown",
   "id": "23db13ac",
   "metadata": {},
   "source": [
    "# Splitting the data"
   ]
  },
  {
   "cell_type": "code",
   "execution_count": 1109,
   "id": "ca1dde37",
   "metadata": {},
   "outputs": [
    {
     "data": {
      "text/plain": [
       "Index(['PM2.5', 'NO', 'NO2', 'NOx', 'CO', 'SO2', 'O3', 'Benzene', 'Toluene',\n",
       "       'Xylene', 'AQI', 'AQI_Bucket', 'City_Ahmedabad', 'City_Amaravati',\n",
       "       'City_Amritsar', 'skew_nox'],\n",
       "      dtype='object')"
      ]
     },
     "execution_count": 1109,
     "metadata": {},
     "output_type": "execute_result"
    }
   ],
   "source": [
    "df.columns"
   ]
  },
  {
   "cell_type": "code",
   "execution_count": 1110,
   "id": "7ddc6a90",
   "metadata": {},
   "outputs": [],
   "source": [
    "x=df.drop(['AQI_Bucket'],axis=1)\n",
    "y=df['AQI_Bucket']\n",
    "from sklearn.model_selection import train_test_split\n",
    "x_train,x_test,y_train,y_test=train_test_split(x,y,test_size=0.2,random_state=42)"
   ]
  },
  {
   "cell_type": "markdown",
   "id": "920108cd",
   "metadata": {},
   "source": [
    "# 2.6 Standardisation/Normalization"
   ]
  },
  {
   "cell_type": "markdown",
   "id": "eedf0cc9",
   "metadata": {},
   "source": [
    "# Scaling using MinMax Scaler"
   ]
  },
  {
   "cell_type": "code",
   "execution_count": 1111,
   "id": "6d774143",
   "metadata": {},
   "outputs": [],
   "source": [
    "#from sklearn import preprocessing\n",
    "#min_max= preprocessing.MinMaxScaler(feature_range=(0,1))\n",
    "#x_test= min_max.fit_transform(x_test)\n",
    "#x_train= min_max.fit_transform(x_train)\n",
    "#x_train=pd.DataFrame(x_train)\n",
    "#x_test=pd.DataFrame(x_test)"
   ]
  },
  {
   "cell_type": "markdown",
   "id": "fbce91e9",
   "metadata": {},
   "source": [
    "# Scaling using Standard Scaler"
   ]
  },
  {
   "cell_type": "code",
   "execution_count": 1112,
   "id": "a4d499fd",
   "metadata": {},
   "outputs": [
    {
     "name": "stderr",
     "output_type": "stream",
     "text": [
      "<ipython-input-1112-9075d0ea7b6f>:3: SettingWithCopyWarning: \n",
      "A value is trying to be set on a copy of a slice from a DataFrame.\n",
      "Try using .loc[row_indexer,col_indexer] = value instead\n",
      "\n",
      "See the caveats in the documentation: https://pandas.pydata.org/pandas-docs/stable/user_guide/indexing.html#returning-a-view-versus-a-copy\n",
      "  x_train[:] = sc.fit_transform(x_train[:])\n",
      "C:\\Users\\NJ\\anaconda3\\lib\\site-packages\\pandas\\core\\indexing.py:1637: SettingWithCopyWarning: \n",
      "A value is trying to be set on a copy of a slice from a DataFrame\n",
      "\n",
      "See the caveats in the documentation: https://pandas.pydata.org/pandas-docs/stable/user_guide/indexing.html#returning-a-view-versus-a-copy\n",
      "  self._setitem_single_block(indexer, value, name)\n",
      "C:\\Users\\NJ\\anaconda3\\lib\\site-packages\\pandas\\core\\indexing.py:692: SettingWithCopyWarning: \n",
      "A value is trying to be set on a copy of a slice from a DataFrame\n",
      "\n",
      "See the caveats in the documentation: https://pandas.pydata.org/pandas-docs/stable/user_guide/indexing.html#returning-a-view-versus-a-copy\n",
      "  iloc._setitem_with_indexer(indexer, value, self.name)\n",
      "<ipython-input-1112-9075d0ea7b6f>:4: SettingWithCopyWarning: \n",
      "A value is trying to be set on a copy of a slice from a DataFrame.\n",
      "Try using .loc[row_indexer,col_indexer] = value instead\n",
      "\n",
      "See the caveats in the documentation: https://pandas.pydata.org/pandas-docs/stable/user_guide/indexing.html#returning-a-view-versus-a-copy\n",
      "  x_test[:] = sc.transform(x_test[:])\n",
      "C:\\Users\\NJ\\anaconda3\\lib\\site-packages\\pandas\\core\\indexing.py:1637: SettingWithCopyWarning: \n",
      "A value is trying to be set on a copy of a slice from a DataFrame\n",
      "\n",
      "See the caveats in the documentation: https://pandas.pydata.org/pandas-docs/stable/user_guide/indexing.html#returning-a-view-versus-a-copy\n",
      "  self._setitem_single_block(indexer, value, name)\n",
      "C:\\Users\\NJ\\anaconda3\\lib\\site-packages\\pandas\\core\\indexing.py:692: SettingWithCopyWarning: \n",
      "A value is trying to be set on a copy of a slice from a DataFrame\n",
      "\n",
      "See the caveats in the documentation: https://pandas.pydata.org/pandas-docs/stable/user_guide/indexing.html#returning-a-view-versus-a-copy\n",
      "  iloc._setitem_with_indexer(indexer, value, self.name)\n"
     ]
    }
   ],
   "source": [
    "from sklearn.preprocessing import StandardScaler\n",
    "sc = StandardScaler()\n",
    "x_train[:] = sc.fit_transform(x_train[:])\n",
    "x_test[:] = sc.transform(x_test[:])"
   ]
  },
  {
   "cell_type": "markdown",
   "id": "a94fbe26",
   "metadata": {},
   "source": [
    "# 3. Exploratory Data Analysis (EDA)"
   ]
  },
  {
   "cell_type": "code",
   "execution_count": 1139,
   "id": "76954efc",
   "metadata": {},
   "outputs": [
    {
     "data": {
      "text/plain": [
       "Text(0, 0.5, 'AQI rating count')"
      ]
     },
     "execution_count": 1139,
     "metadata": {},
     "output_type": "execute_result"
    },
    {
     "data": {
      "image/png": "[encoded data removed]",
      "text/plain": [
       "<Figure size 1440x1080 with 1 Axes>"
      ]
     },
     "metadata": {
      "needs_background": "light"
     },
     "output_type": "display_data"
    }
   ],
   "source": [
    "plt.figure(figsize=(20,15))\n",
    "plt.ylim(0,600)\n",
    "plt.xlabel(\"City\",fontsize=20)\n",
    "graph=sns.countplot(x='City',data=df1,hue=\"AQI_Bucket\")\n",
    "plt.title('City vs count of AQI rating',size=30)\n",
    "for p in graph.patches:\n",
    "        graph.annotate('{}'.format(p.get_height()), (p.get_x(), p.get_height()+5))\n",
    "plt.ylabel(\"AQI rating count\",fontsize=20)"
   ]
  },
  {
   "cell_type": "markdown",
   "id": "f439a7c2",
   "metadata": {},
   "source": [
    "# Insight\n",
    "## Amarvati is found to show more entries of good and satisfactory AQI  where as Ahmeadabad is is found to have more number of very severe Air Quality. Hence we can say that Amarvati has cleaner air than the other two places. "
   ]
  },
  {
   "cell_type": "code",
   "execution_count": 1121,
   "id": "a19fec81",
   "metadata": {},
   "outputs": [
    {
     "data": {
      "text/plain": [
       "Text(0.5, 1.0, 'NOx vs NO2')"
      ]
     },
     "execution_count": 1121,
     "metadata": {},
     "output_type": "execute_result"
    },
    {
     "data": {
      "image/png": "[encoded data removed]",
      "text/plain": [
       "<Figure size 1440x720 with 1 Axes>"
      ]
     },
     "metadata": {
      "needs_background": "light"
     },
     "output_type": "display_data"
    }
   ],
   "source": [
    "plt.figure(figsize=(20,10))\n",
    "sns.scatterplot(x='NOx',y='NO2',data=df1)\n",
    "plt.title('NOx vs NO2',size=20)"
   ]
  },
  {
   "cell_type": "markdown",
   "id": "ef324cd4",
   "metadata": {},
   "source": [
    "# Insight\n",
    "## NO2 and NOx is found to show some close relation in the lower range while as the value increase they seem to spread out."
   ]
  },
  {
   "cell_type": "code",
   "execution_count": 1125,
   "id": "526dfd94",
   "metadata": {},
   "outputs": [
    {
     "data": {
      "text/plain": [
       "<AxesSubplot:>"
      ]
     },
     "execution_count": 1125,
     "metadata": {},
     "output_type": "execute_result"
    },
    {
     "data": {
      "image/png": "[encoded data removed]",
      "text/plain": [
       "<Figure size 1440x576 with 2 Axes>"
      ]
     },
     "metadata": {
      "needs_background": "light"
     },
     "output_type": "display_data"
    }
   ],
   "source": [
    "corrmatrix=df1[['NO','NO2','NOx']].corr()\n",
    "plt.subplots(figsize=(20,8))\n",
    "sns.heatmap(corrmatrix,vmin=.4,vmax=.9,annot=True,linewidth=0.3)"
   ]
  },
  {
   "cell_type": "markdown",
   "id": "f15fbc9b",
   "metadata": {},
   "source": [
    "# Insight\n",
    "## NO and NO2 are found to show good correlation with NOx (.77 and .79 Respectively)"
   ]
  },
  {
   "cell_type": "markdown",
   "id": "d8194889",
   "metadata": {},
   "source": [
    "# 4. Modeling\n"
   ]
  },
  {
   "cell_type": "code",
   "execution_count": 1051,
   "id": "d56d6038",
   "metadata": {},
   "outputs": [],
   "source": [
    "from sklearn.metrics import confusion_matrix, accuracy_score,f1_score,precision_score,recall_score"
   ]
  },
  {
   "cell_type": "markdown",
   "id": "d48bdcca",
   "metadata": {},
   "source": [
    "# 4.1. Building the model using RandomForestClassifier"
   ]
  },
  {
   "cell_type": "code",
   "execution_count": 1052,
   "id": "f1864cf4",
   "metadata": {},
   "outputs": [],
   "source": [
    "from sklearn.ensemble import RandomForestClassifier\n",
    "rf=RandomForestClassifier()\n",
    "rf.fit(x_train,y_train)\n",
    "y_pred=rf.predict(x_test)"
   ]
  },
  {
   "cell_type": "code",
   "execution_count": 1053,
   "id": "f70d0d1d",
   "metadata": {},
   "outputs": [
    {
     "name": "stdout",
     "output_type": "stream",
     "text": [
      "Accuracy is: 0.994\n",
      "Precision is: 0.9940228702115493\n",
      "Recall is: 0.994\n",
      "F1 Score is: 0.9939948633801812\n"
     ]
    }
   ],
   "source": [
    "print(\"Accuracy is:\",accuracy_score(y_test,y_pred))\n",
    "print(\"Precision is:\",precision_score(y_test,y_pred,average='weighted'))\n",
    "print(\"Recall is:\",recall_score(y_test,y_pred,average='weighted'))\n",
    "print(\"F1 Score is:\",f1_score(y_test,y_pred,average='weighted'))"
   ]
  },
  {
   "cell_type": "code",
   "execution_count": 1054,
   "id": "feada775",
   "metadata": {},
   "outputs": [
    {
     "data": {
      "text/plain": [
       "array([[108,   0,   0,   0,   0,   0],\n",
       "       [  0,  52,   2,   0,   0,   0],\n",
       "       [  0,   1,  64,   0,   0,   0],\n",
       "       [  0,   0,   0, 113,   0,   0],\n",
       "       [  0,   0,   0,   0, 131,   0],\n",
       "       [  0,   0,   0,   0,   0,  29]], dtype=int64)"
      ]
     },
     "execution_count": 1054,
     "metadata": {},
     "output_type": "execute_result"
    }
   ],
   "source": [
    "confusion_matrix(y_test,y_pred)"
   ]
  },
  {
   "cell_type": "markdown",
   "id": "b64ed2f5",
   "metadata": {},
   "source": [
    "# 4.2 Building the model using Gradient Boosting"
   ]
  },
  {
   "cell_type": "markdown",
   "id": "2c3c322c",
   "metadata": {},
   "source": [
    "# 4.2.1 Gradient Boosting"
   ]
  },
  {
   "cell_type": "code",
   "execution_count": 1055,
   "id": "831890a0",
   "metadata": {},
   "outputs": [],
   "source": [
    "from sklearn.ensemble import GradientBoostingClassifier\n",
    "gb=GradientBoostingClassifier()\n",
    "gb.fit(x_train,y_train)\n",
    "y_predict=gb.predict(x_test)"
   ]
  },
  {
   "cell_type": "code",
   "execution_count": 1056,
   "id": "ca7687b3",
   "metadata": {},
   "outputs": [
    {
     "name": "stdout",
     "output_type": "stream",
     "text": [
      "Accuracy is: 1.0\n",
      "Precision is: 1.0\n",
      "Recall is: 1.0\n",
      "F1 Score is: 1.0\n"
     ]
    }
   ],
   "source": [
    "print(\"Accuracy is:\",accuracy_score(y_test,y_predict))\n",
    "print(\"Precision is:\",precision_score(y_test,y_predict,average='weighted'))\n",
    "print(\"Recall is:\",recall_score(y_test,y_predict,average='weighted'))\n",
    "print(\"F1 Score is:\",f1_score(y_test,y_predict,average='weighted'))"
   ]
  },
  {
   "cell_type": "code",
   "execution_count": 1057,
   "id": "09aced34",
   "metadata": {},
   "outputs": [
    {
     "data": {
      "text/plain": [
       "array([[108,   0,   0,   0,   0,   0],\n",
       "       [  0,  54,   0,   0,   0,   0],\n",
       "       [  0,   0,  65,   0,   0,   0],\n",
       "       [  0,   0,   0, 113,   0,   0],\n",
       "       [  0,   0,   0,   0, 131,   0],\n",
       "       [  0,   0,   0,   0,   0,  29]], dtype=int64)"
      ]
     },
     "execution_count": 1057,
     "metadata": {},
     "output_type": "execute_result"
    }
   ],
   "source": [
    "confusion_matrix(y_test,y_predict)"
   ]
  },
  {
   "cell_type": "markdown",
   "id": "1ff86dc4",
   "metadata": {},
   "source": [
    "# 4.2.2 Extreme Gradient Boosting"
   ]
  },
  {
   "cell_type": "code",
   "execution_count": 1058,
   "id": "e269ccd0",
   "metadata": {},
   "outputs": [
    {
     "name": "stderr",
     "output_type": "stream",
     "text": [
      "C:\\Users\\NJ\\anaconda3\\lib\\site-packages\\xgboost\\sklearn.py:1224: UserWarning: The use of label encoder in XGBClassifier is deprecated and will be removed in a future release. To remove this warning, do the following: 1) Pass option use_label_encoder=False when constructing XGBClassifier object; and 2) Encode your labels (y) as integers starting with 0, i.e. 0, 1, 2, ..., [num_class - 1].\n",
      "  warnings.warn(label_encoder_deprecation_msg, UserWarning)\n"
     ]
    },
    {
     "name": "stdout",
     "output_type": "stream",
     "text": [
      "[19:37:07] WARNING: C:/Users/Administrator/workspace/xgboost-win64_release_1.5.1/src/learner.cc:1115: Starting in XGBoost 1.3.0, the default evaluation metric used with the objective 'multi:softprob' was changed from 'merror' to 'mlogloss'. Explicitly set eval_metric if you'd like to restore the old behavior.\n"
     ]
    }
   ],
   "source": [
    "from xgboost import XGBClassifier\n",
    "xgb=XGBClassifier()\n",
    "xgb.fit(x_train,y_train)\n",
    "y_predd=xgb.predict(x_test)"
   ]
  },
  {
   "cell_type": "code",
   "execution_count": 1059,
   "id": "51de5299",
   "metadata": {},
   "outputs": [
    {
     "name": "stdout",
     "output_type": "stream",
     "text": [
      "Accuracy is: 1.0\n",
      "Precision is: 1.0\n",
      "Recall is: 1.0\n",
      "F1 Score is: 1.0\n"
     ]
    }
   ],
   "source": [
    "print(\"Accuracy is:\",accuracy_score(y_test,y_predd))\n",
    "print(\"Precision is:\",precision_score(y_test,y_predd,average='weighted'))\n",
    "print(\"Recall is:\",recall_score(y_test,y_predd,average='weighted'))\n",
    "print(\"F1 Score is:\",f1_score(y_test,y_predd,average='weighted'))"
   ]
  },
  {
   "cell_type": "code",
   "execution_count": 1060,
   "id": "31fdd0c6",
   "metadata": {},
   "outputs": [
    {
     "data": {
      "text/plain": [
       "array([[108,   0,   0,   0,   0,   0],\n",
       "       [  0,  54,   0,   0,   0,   0],\n",
       "       [  0,   0,  65,   0,   0,   0],\n",
       "       [  0,   0,   0, 113,   0,   0],\n",
       "       [  0,   0,   0,   0, 131,   0],\n",
       "       [  0,   0,   0,   0,   0,  29]], dtype=int64)"
      ]
     },
     "execution_count": 1060,
     "metadata": {},
     "output_type": "execute_result"
    }
   ],
   "source": [
    "confusion_matrix(y_test,y_predd)"
   ]
  },
  {
   "cell_type": "markdown",
   "id": "fbba615e",
   "metadata": {},
   "source": [
    "# 4.3 Building the model using Logistic regression"
   ]
  },
  {
   "cell_type": "code",
   "execution_count": 1061,
   "id": "62fe773f",
   "metadata": {},
   "outputs": [
    {
     "name": "stderr",
     "output_type": "stream",
     "text": [
      "C:\\Users\\NJ\\anaconda3\\lib\\site-packages\\sklearn\\linear_model\\_logistic.py:763: ConvergenceWarning: lbfgs failed to converge (status=1):\n",
      "STOP: TOTAL NO. of ITERATIONS REACHED LIMIT.\n",
      "\n",
      "Increase the number of iterations (max_iter) or scale the data as shown in:\n",
      "    https://scikit-learn.org/stable/modules/preprocessing.html\n",
      "Please also refer to the documentation for alternative solver options:\n",
      "    https://scikit-learn.org/stable/modules/linear_model.html#logistic-regression\n",
      "  n_iter_i = _check_optimize_result(\n"
     ]
    }
   ],
   "source": [
    "from sklearn.linear_model import LogisticRegression\n",
    "log_r=LogisticRegression()\n",
    "log_r.fit(x_train,y_train)\n",
    "y_preddd=log_r.predict(x_test)"
   ]
  },
  {
   "cell_type": "code",
   "execution_count": 1062,
   "id": "397f0954",
   "metadata": {},
   "outputs": [
    {
     "name": "stdout",
     "output_type": "stream",
     "text": [
      "Accuracy is: 0.836\n",
      "Precision is: 0.8329654706199293\n",
      "Recall is: 0.836\n",
      "F1 Score is: 0.8322093951984578\n"
     ]
    }
   ],
   "source": [
    "print(\"Accuracy is:\",accuracy_score(y_test,y_preddd))\n",
    "print(\"Precision is:\",precision_score(y_test,y_preddd,average='weighted'))\n",
    "print(\"Recall is:\",recall_score(y_test,y_preddd,average='weighted'))\n",
    "print(\"F1 Score is:\",f1_score(y_test,y_preddd,average='weighted'))"
   ]
  },
  {
   "cell_type": "code",
   "execution_count": 1063,
   "id": "9df1edde",
   "metadata": {},
   "outputs": [
    {
     "data": {
      "text/plain": [
       "array([[106,   2,   0,   0,   0,   0],\n",
       "       [  1,  43,  10,   0,   0,   0],\n",
       "       [  0,   6,  50,   9,   0,   0],\n",
       "       [  0,   0,   2,  96,  14,   1],\n",
       "       [  0,   0,   0,  13, 112,   6],\n",
       "       [  0,   0,   0,   0,  18,  11]], dtype=int64)"
      ]
     },
     "execution_count": 1063,
     "metadata": {},
     "output_type": "execute_result"
    }
   ],
   "source": [
    "confusion_matrix(y_test,y_preddd)"
   ]
  },
  {
   "cell_type": "markdown",
   "id": "385ff41e",
   "metadata": {},
   "source": [
    "# 4.4 Building the model using KNN Model"
   ]
  },
  {
   "cell_type": "code",
   "execution_count": 1064,
   "id": "1c01a2d0",
   "metadata": {},
   "outputs": [],
   "source": [
    "from sklearn.neighbors import KNeighborsClassifier\n",
    "acc_values=[]\n",
    "neighbors=np.arange(3,15)\n",
    "for k in neighbors:\n",
    "    classifier = KNeighborsClassifier(n_neighbors=k, metric='minkowski')\n",
    "    classifier.fit(x_train,y_train)\n",
    "    y_predic=classifier.predict(x_test)\n",
    "    acc=accuracy_score(y_test,y_predic)\n",
    "    acc_values.append(acc)"
   ]
  },
  {
   "cell_type": "code",
   "execution_count": 1065,
   "id": "130934d3",
   "metadata": {},
   "outputs": [
    {
     "data": {
      "text/plain": [
       "[0.752,\n",
       " 0.74,\n",
       " 0.748,\n",
       " 0.754,\n",
       " 0.758,\n",
       " 0.768,\n",
       " 0.76,\n",
       " 0.758,\n",
       " 0.758,\n",
       " 0.744,\n",
       " 0.74,\n",
       " 0.734]"
      ]
     },
     "execution_count": 1065,
     "metadata": {},
     "output_type": "execute_result"
    }
   ],
   "source": [
    "acc_values"
   ]
  },
  {
   "cell_type": "code",
   "execution_count": 1066,
   "id": "9071cba1",
   "metadata": {},
   "outputs": [
    {
     "data": {
      "text/plain": [
       "Text(0, 0.5, 'accuracy')"
      ]
     },
     "execution_count": 1066,
     "metadata": {},
     "output_type": "execute_result"
    },
    {
     "data": {
      "image/png": "[encoded data removed]",
      "text/plain": [
       "<Figure size 432x288 with 1 Axes>"
      ]
     },
     "metadata": {
      "needs_background": "light"
     },
     "output_type": "display_data"
    }
   ],
   "source": [
    "plt.plot(neighbors,acc_values,'o-')\n",
    "plt.xlabel('k value')\n",
    "plt.ylabel('accuracy')"
   ]
  },
  {
   "cell_type": "code",
   "execution_count": 1084,
   "id": "279669f3",
   "metadata": {},
   "outputs": [],
   "source": [
    "classifier = KNeighborsClassifier(n_neighbors=8, metric='minkowski')\n",
    "classifier.fit(x_train,y_train)\n",
    "y_predic=classifier.predict(x_test)"
   ]
  },
  {
   "cell_type": "code",
   "execution_count": 1085,
   "id": "bbdcf435",
   "metadata": {},
   "outputs": [
    {
     "name": "stdout",
     "output_type": "stream",
     "text": [
      "Accuracy is: 0.768\n",
      "Precision is: 0.7633545867683775\n",
      "Recall is: 0.768\n",
      "F1 Score is: 0.7634492606915368\n"
     ]
    }
   ],
   "source": [
    "print(\"Accuracy is:\",accuracy_score(y_test,y_predic))\n",
    "print(\"Precision is:\",precision_score(y_test,y_predic,average='weighted'))\n",
    "print(\"Recall is:\",recall_score(y_test,y_predic,average='weighted'))\n",
    "print(\"F1 Score is:\",f1_score(y_test,y_predic,average='weighted'))"
   ]
  },
  {
   "cell_type": "code",
   "execution_count": 1069,
   "id": "ec8e39c6",
   "metadata": {},
   "outputs": [
    {
     "data": {
      "text/plain": [
       "array([[103,   4,   1,   0,   0,   0],\n",
       "       [ 14,  22,  15,   3,   0,   0],\n",
       "       [  2,  11,  39,  13,   0,   0],\n",
       "       [  0,   3,   7,  80,  22,   1],\n",
       "       [  0,   0,   0,  19, 105,   7],\n",
       "       [  0,   0,   0,   0,  11,  18]], dtype=int64)"
      ]
     },
     "execution_count": 1069,
     "metadata": {},
     "output_type": "execute_result"
    }
   ],
   "source": [
    "confusion_matrix(y_test,y_predic)"
   ]
  },
  {
   "cell_type": "markdown",
   "id": "ff32ab8b",
   "metadata": {},
   "source": [
    "# 4.5 Building the model using Decision Tree Model"
   ]
  },
  {
   "cell_type": "code",
   "execution_count": 1070,
   "id": "7cee2e43",
   "metadata": {},
   "outputs": [],
   "source": [
    "from sklearn.tree import DecisionTreeClassifier\n",
    "dt=DecisionTreeClassifier()\n",
    "dt.fit(x_train,y_train)\n",
    "y_pr=dt.predict(x_test)"
   ]
  },
  {
   "cell_type": "code",
   "execution_count": 1071,
   "id": "04c23d9d",
   "metadata": {},
   "outputs": [
    {
     "name": "stdout",
     "output_type": "stream",
     "text": [
      "Accuracy is: 1.0\n",
      "Precision is: 1.0\n",
      "Recall is: 1.0\n",
      "F1 Score is: 1.0\n"
     ]
    }
   ],
   "source": [
    "print(\"Accuracy is:\",accuracy_score(y_test,y_pr))\n",
    "print(\"Precision is:\",precision_score(y_test,y_pr,average='weighted'))\n",
    "print(\"Recall is:\",recall_score(y_test,y_pr,average='weighted'))\n",
    "print(\"F1 Score is:\",f1_score(y_test,y_pr,average='weighted'))"
   ]
  },
  {
   "cell_type": "code",
   "execution_count": 1072,
   "id": "a935000d",
   "metadata": {},
   "outputs": [
    {
     "data": {
      "text/plain": [
       "array([[108,   0,   0,   0,   0,   0],\n",
       "       [  0,  54,   0,   0,   0,   0],\n",
       "       [  0,   0,  65,   0,   0,   0],\n",
       "       [  0,   0,   0, 113,   0,   0],\n",
       "       [  0,   0,   0,   0, 131,   0],\n",
       "       [  0,   0,   0,   0,   0,  29]], dtype=int64)"
      ]
     },
     "execution_count": 1072,
     "metadata": {},
     "output_type": "execute_result"
    }
   ],
   "source": [
    "confusion_matrix(y_test,y_pr)"
   ]
  },
  {
   "cell_type": "markdown",
   "id": "e6cb0cf1",
   "metadata": {},
   "source": [
    "# 4.6 Building the model using SVM Model"
   ]
  },
  {
   "cell_type": "code",
   "execution_count": 1073,
   "id": "fac0820a",
   "metadata": {},
   "outputs": [],
   "source": [
    "from sklearn.svm import SVC"
   ]
  },
  {
   "cell_type": "markdown",
   "id": "4b9daf9d",
   "metadata": {},
   "source": [
    "# 4.6.1 Linear SVM"
   ]
  },
  {
   "cell_type": "code",
   "execution_count": 1074,
   "id": "6e63ca86",
   "metadata": {},
   "outputs": [],
   "source": [
    "svm_linear=SVC(kernel='linear')\n",
    "svm_linear.fit(x_train,y_train)\n",
    "y_pre=svm_linear.predict(x_test)"
   ]
  },
  {
   "cell_type": "code",
   "execution_count": 1075,
   "id": "1291aa34",
   "metadata": {},
   "outputs": [
    {
     "name": "stdout",
     "output_type": "stream",
     "text": [
      "Accuracy is: 0.924\n",
      "Precision is: 0.9252257632530714\n",
      "Recall is: 0.924\n",
      "F1 Score is: 0.9235549573942179\n"
     ]
    }
   ],
   "source": [
    "print(\"Accuracy is:\",accuracy_score(y_test,y_pre))\n",
    "print(\"Precision is:\",precision_score(y_test,y_pre,average='weighted'))\n",
    "print(\"Recall is:\",recall_score(y_test,y_pre,average='weighted'))\n",
    "print(\"F1 Score is:\",f1_score(y_test,y_pre,average='weighted'))"
   ]
  },
  {
   "cell_type": "code",
   "execution_count": 1076,
   "id": "eb9a2976",
   "metadata": {},
   "outputs": [
    {
     "data": {
      "text/plain": [
       "array([[106,   2,   0,   0,   0,   0],\n",
       "       [  1,  52,   1,   0,   0,   0],\n",
       "       [  0,   3,  60,   2,   0,   0],\n",
       "       [  0,   0,   2, 100,  11,   0],\n",
       "       [  0,   0,   0,   5, 123,   3],\n",
       "       [  0,   0,   0,   0,   8,  21]], dtype=int64)"
      ]
     },
     "execution_count": 1076,
     "metadata": {},
     "output_type": "execute_result"
    }
   ],
   "source": [
    "confusion_matrix(y_test,y_pre)"
   ]
  },
  {
   "cell_type": "markdown",
   "id": "fe957402",
   "metadata": {},
   "source": [
    "# 4.6.2 Polynomial SVM"
   ]
  },
  {
   "cell_type": "code",
   "execution_count": 1077,
   "id": "ed869c98",
   "metadata": {},
   "outputs": [],
   "source": [
    "svm_poly=SVC(kernel='poly',degree=3)\n",
    "svm_poly.fit(x_train,y_train)\n",
    "y_pre1=svm_poly.predict(x_test)"
   ]
  },
  {
   "cell_type": "code",
   "execution_count": 1078,
   "id": "77d0b68d",
   "metadata": {},
   "outputs": [
    {
     "name": "stdout",
     "output_type": "stream",
     "text": [
      "Accuracy is: 0.714\n",
      "Precision is: 0.685399614450002\n",
      "Recall is: 0.714\n",
      "F1 Score is: 0.6948951726216458\n"
     ]
    },
    {
     "name": "stderr",
     "output_type": "stream",
     "text": [
      "C:\\Users\\NJ\\anaconda3\\lib\\site-packages\\sklearn\\metrics\\_classification.py:1245: UndefinedMetricWarning: Precision is ill-defined and being set to 0.0 in labels with no predicted samples. Use `zero_division` parameter to control this behavior.\n",
      "  _warn_prf(average, modifier, msg_start, len(result))\n"
     ]
    }
   ],
   "source": [
    "print(\"Accuracy is:\",accuracy_score(y_test,y_pre1))\n",
    "print(\"Precision is:\",precision_score(y_test,y_pre1,average='weighted'))\n",
    "print(\"Recall is:\",recall_score(y_test,y_pre1,average='weighted'))\n",
    "print(\"F1 Score is:\",f1_score(y_test,y_pre1,average='weighted'))"
   ]
  },
  {
   "cell_type": "code",
   "execution_count": 1079,
   "id": "4af11694",
   "metadata": {},
   "outputs": [
    {
     "data": {
      "text/plain": [
       "array([[ 93,   8,   7,   0,   0,   0],\n",
       "       [  2,  27,  23,   2,   0,   0],\n",
       "       [  0,   7,  38,  20,   0,   0],\n",
       "       [  0,   0,  12,  85,  16,   0],\n",
       "       [  0,   0,   0,  17, 114,   0],\n",
       "       [  0,   0,   0,   0,  29,   0]], dtype=int64)"
      ]
     },
     "execution_count": 1079,
     "metadata": {},
     "output_type": "execute_result"
    }
   ],
   "source": [
    "confusion_matrix(y_test,y_pre1)"
   ]
  },
  {
   "cell_type": "markdown",
   "id": "591f33ca",
   "metadata": {},
   "source": [
    "# 4.6.3 Radial SVM"
   ]
  },
  {
   "cell_type": "code",
   "execution_count": 1080,
   "id": "9d5367c7",
   "metadata": {},
   "outputs": [],
   "source": [
    "svm_rad=SVC(kernel='rbf')\n",
    "svm_rad.fit(x_train,y_train)\n",
    "y_pre2=svm_rad.predict(x_test)"
   ]
  },
  {
   "cell_type": "code",
   "execution_count": 1081,
   "id": "cb87638b",
   "metadata": {},
   "outputs": [
    {
     "name": "stdout",
     "output_type": "stream",
     "text": [
      "Accuracy is: 0.79\n",
      "Precision is: 0.7484193139615228\n",
      "Recall is: 0.79\n",
      "F1 Score is: 0.765807609874668\n"
     ]
    },
    {
     "name": "stderr",
     "output_type": "stream",
     "text": [
      "C:\\Users\\NJ\\anaconda3\\lib\\site-packages\\sklearn\\metrics\\_classification.py:1245: UndefinedMetricWarning: Precision is ill-defined and being set to 0.0 in labels with no predicted samples. Use `zero_division` parameter to control this behavior.\n",
      "  _warn_prf(average, modifier, msg_start, len(result))\n"
     ]
    }
   ],
   "source": [
    "print(\"Accuracy is:\",accuracy_score(y_test,y_pre2))\n",
    "print(\"Precision is:\",precision_score(y_test,y_pre2,average='weighted'))\n",
    "print(\"Recall is:\",recall_score(y_test,y_pre2,average='weighted'))\n",
    "print(\"F1 Score is:\",f1_score(y_test,y_pre2,average='weighted'))"
   ]
  },
  {
   "cell_type": "code",
   "execution_count": 1082,
   "id": "eec3e0d5",
   "metadata": {},
   "outputs": [
    {
     "data": {
      "text/plain": [
       "array([[104,   4,   0,   0,   0,   0],\n",
       "       [  6,  35,  13,   0,   0,   0],\n",
       "       [  0,   8,  50,   7,   0,   0],\n",
       "       [  1,   2,   5,  87,  18,   0],\n",
       "       [  0,   0,   0,  12, 119,   0],\n",
       "       [  0,   0,   0,   0,  29,   0]], dtype=int64)"
      ]
     },
     "execution_count": 1082,
     "metadata": {},
     "output_type": "execute_result"
    }
   ],
   "source": [
    "confusion_matrix(y_test,y_pre2)"
   ]
  },
  {
   "cell_type": "markdown",
   "id": "7ffba343",
   "metadata": {},
   "source": [
    "# Insight"
   ]
  },
  {
   "cell_type": "markdown",
   "id": "1f6769bd",
   "metadata": {},
   "source": [
    "### The Gradient boosting ,Extreme gradient boosting and Decision tree model has the highest vaules.\n",
    "    Accuracy is: 1\n",
    "    Precision is: 1\n",
    "    Recall is: 1\n",
    "    F1 Score is: 1"
   ]
  },
  {
   "cell_type": "markdown",
   "id": "6e1480a4",
   "metadata": {},
   "source": [
    "# 5. Model Tuning"
   ]
  },
  {
   "cell_type": "code",
   "execution_count": null,
   "id": "37168b7b",
   "metadata": {},
   "outputs": [],
   "source": []
  },
  {
   "cell_type": "code",
   "execution_count": null,
   "id": "dd7e19e4",
   "metadata": {},
   "outputs": [],
   "source": []
  },
  {
   "cell_type": "code",
   "execution_count": null,
   "id": "c96bd163",
   "metadata": {},
   "outputs": [],
   "source": []
  }
 ],
 "metadata": {
  "kernelspec": {
   "display_name": "Python 3",
   "language": "python",
   "name": "python3"
  },
  "language_info": {
   "codemirror_mode": {
    "name": "ipython",
    "version": 3
   },
   "file_extension": ".py",
   "mimetype": "text/x-python",
   "name": "python",
   "nbconvert_exporter": "python",
   "pygments_lexer": "ipython3",
   "version": "3.8.8"
  }
 },
 "nbformat": 4,
 "nbformat_minor": 5
}
