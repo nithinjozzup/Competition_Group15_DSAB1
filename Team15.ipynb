{
 "cells": [
  {
   "cell_type": "markdown",
   "id": "8177d8b6",
   "metadata": {},
   "source": [
    "# Group 15-Air Pollution dataset"
   ]
  },
  {
   "cell_type": "markdown",
   "id": "25044bfc",
   "metadata": {},
   "source": [
    "# 1. Data Collection"
   ]
  },
  {
   "cell_type": "markdown",
   "id": "c330e9f3",
   "metadata": {},
   "source": [
    "# Importing libraries"
   ]
  },
  {
   "cell_type": "code",
   "execution_count": 2,
   "id": "106e2a10",
   "metadata": {},
   "outputs": [],
   "source": [
    "#Importing libraries\n",
    "import numpy as np\n",
    "import pandas as pd\n",
    "import matplotlib.pyplot as plt\n",
    "import seaborn as sns"
   ]
  },
  {
   "cell_type": "code",
   "execution_count": 88,
   "id": "f35ef90e",
   "metadata": {},
   "outputs": [],
   "source": [
    "#Importing .csv file\n",
    "df= pd.read_csv('Air_Pollution_data.csv')\n",
    "df1=df"
   ]
  },
  {
   "cell_type": "code",
   "execution_count": 4,
   "id": "5398fff6",
   "metadata": {},
   "outputs": [
    {
     "data": {
      "text/html": [
       "<div>\n",
       "<style scoped>\n",
       "    .dataframe tbody tr th:only-of-type {\n",
       "        vertical-align: middle;\n",
       "    }\n",
       "\n",
       "    .dataframe tbody tr th {\n",
       "        vertical-align: top;\n",
       "    }\n",
       "\n",
       "    .dataframe thead th {\n",
       "        text-align: right;\n",
       "    }\n",
       "</style>\n",
       "<table border=\"1\" class=\"dataframe\">\n",
       "  <thead>\n",
       "    <tr style=\"text-align: right;\">\n",
       "      <th></th>\n",
       "      <th>City</th>\n",
       "      <th>PM2.5</th>\n",
       "      <th>NO</th>\n",
       "      <th>NO2</th>\n",
       "      <th>NOx</th>\n",
       "      <th>CO</th>\n",
       "      <th>SO2</th>\n",
       "      <th>O3</th>\n",
       "      <th>Benzene</th>\n",
       "      <th>Toluene</th>\n",
       "      <th>Xylene</th>\n",
       "      <th>AQI</th>\n",
       "      <th>AQI_Bucket</th>\n",
       "    </tr>\n",
       "  </thead>\n",
       "  <tbody>\n",
       "    <tr>\n",
       "      <th>0</th>\n",
       "      <td>Ahmedabad</td>\n",
       "      <td>83.13</td>\n",
       "      <td>6.93</td>\n",
       "      <td>28.71</td>\n",
       "      <td>33.72</td>\n",
       "      <td>6.93</td>\n",
       "      <td>49.52</td>\n",
       "      <td>59.76</td>\n",
       "      <td>0.02</td>\n",
       "      <td>0.00</td>\n",
       "      <td>3.14</td>\n",
       "      <td>209</td>\n",
       "      <td>Poor</td>\n",
       "    </tr>\n",
       "    <tr>\n",
       "      <th>1</th>\n",
       "      <td>Ahmedabad</td>\n",
       "      <td>79.84</td>\n",
       "      <td>13.85</td>\n",
       "      <td>28.68</td>\n",
       "      <td>41.08</td>\n",
       "      <td>13.85</td>\n",
       "      <td>48.49</td>\n",
       "      <td>97.07</td>\n",
       "      <td>0.04</td>\n",
       "      <td>0.00</td>\n",
       "      <td>4.81</td>\n",
       "      <td>328</td>\n",
       "      <td>Very Poor</td>\n",
       "    </tr>\n",
       "    <tr>\n",
       "      <th>2</th>\n",
       "      <td>Ahmedabad</td>\n",
       "      <td>94.52</td>\n",
       "      <td>24.39</td>\n",
       "      <td>32.66</td>\n",
       "      <td>52.61</td>\n",
       "      <td>24.39</td>\n",
       "      <td>67.39</td>\n",
       "      <td>111.33</td>\n",
       "      <td>0.24</td>\n",
       "      <td>0.01</td>\n",
       "      <td>7.67</td>\n",
       "      <td>514</td>\n",
       "      <td>Severe</td>\n",
       "    </tr>\n",
       "    <tr>\n",
       "      <th>3</th>\n",
       "      <td>Ahmedabad</td>\n",
       "      <td>135.99</td>\n",
       "      <td>43.48</td>\n",
       "      <td>42.08</td>\n",
       "      <td>84.57</td>\n",
       "      <td>43.48</td>\n",
       "      <td>75.23</td>\n",
       "      <td>102.70</td>\n",
       "      <td>0.40</td>\n",
       "      <td>0.04</td>\n",
       "      <td>25.87</td>\n",
       "      <td>782</td>\n",
       "      <td>Severe</td>\n",
       "    </tr>\n",
       "    <tr>\n",
       "      <th>4</th>\n",
       "      <td>Ahmedabad</td>\n",
       "      <td>178.33</td>\n",
       "      <td>54.56</td>\n",
       "      <td>35.31</td>\n",
       "      <td>72.80</td>\n",
       "      <td>54.56</td>\n",
       "      <td>55.04</td>\n",
       "      <td>107.38</td>\n",
       "      <td>0.46</td>\n",
       "      <td>0.06</td>\n",
       "      <td>35.61</td>\n",
       "      <td>914</td>\n",
       "      <td>Severe</td>\n",
       "    </tr>\n",
       "  </tbody>\n",
       "</table>\n",
       "</div>"
      ],
      "text/plain": [
       "        City   PM2.5     NO    NO2    NOx     CO    SO2      O3  Benzene  \\\n",
       "0  Ahmedabad   83.13   6.93  28.71  33.72   6.93  49.52   59.76     0.02   \n",
       "1  Ahmedabad   79.84  13.85  28.68  41.08  13.85  48.49   97.07     0.04   \n",
       "2  Ahmedabad   94.52  24.39  32.66  52.61  24.39  67.39  111.33     0.24   \n",
       "3  Ahmedabad  135.99  43.48  42.08  84.57  43.48  75.23  102.70     0.40   \n",
       "4  Ahmedabad  178.33  54.56  35.31  72.80  54.56  55.04  107.38     0.46   \n",
       "\n",
       "   Toluene  Xylene  AQI AQI_Bucket  \n",
       "0     0.00    3.14  209       Poor  \n",
       "1     0.00    4.81  328  Very Poor  \n",
       "2     0.01    7.67  514     Severe  \n",
       "3     0.04   25.87  782     Severe  \n",
       "4     0.06   35.61  914     Severe  "
      ]
     },
     "execution_count": 4,
     "metadata": {},
     "output_type": "execute_result"
    }
   ],
   "source": [
    "df.head()"
   ]
  },
  {
   "cell_type": "markdown",
   "id": "a71f1cd6",
   "metadata": {},
   "source": [
    "## The data set is Collected and read to Python."
   ]
  },
  {
   "cell_type": "markdown",
   "id": "77ec4ac9",
   "metadata": {},
   "source": [
    "# 2. Preprocessing"
   ]
  },
  {
   "cell_type": "markdown",
   "id": "cc66c264",
   "metadata": {},
   "source": [
    "# 2.1 Encoding"
   ]
  },
  {
   "cell_type": "markdown",
   "id": "67878a03",
   "metadata": {},
   "source": [
    "# 2.1.1 Ordinal Encoding"
   ]
  },
  {
   "cell_type": "code",
   "execution_count": 5,
   "id": "689135b9",
   "metadata": {},
   "outputs": [
    {
     "data": {
      "text/plain": [
       "Satisfactory    637\n",
       "Moderate        612\n",
       "Severe          583\n",
       "Poor            314\n",
       "Very Poor       258\n",
       "Good            148\n",
       "Name: AQI_Bucket, dtype: int64"
      ]
     },
     "execution_count": 5,
     "metadata": {},
     "output_type": "execute_result"
    }
   ],
   "source": [
    "df['AQI_Bucket'].value_counts()"
   ]
  },
  {
   "cell_type": "code",
   "execution_count": 6,
   "id": "f38ab865",
   "metadata": {},
   "outputs": [],
   "source": [
    "scale_mapper = {'Good':6,'Satisfactory':5,'Moderate':4,'Poor':3,'Very Poor':2,'Severe':1}\n",
    "df['AQI_Bucket'] = df['AQI_Bucket'].replace(scale_mapper)"
   ]
  },
  {
   "cell_type": "code",
   "execution_count": 7,
   "id": "8433d837",
   "metadata": {},
   "outputs": [
    {
     "data": {
      "text/html": [
       "<div>\n",
       "<style scoped>\n",
       "    .dataframe tbody tr th:only-of-type {\n",
       "        vertical-align: middle;\n",
       "    }\n",
       "\n",
       "    .dataframe tbody tr th {\n",
       "        vertical-align: top;\n",
       "    }\n",
       "\n",
       "    .dataframe thead th {\n",
       "        text-align: right;\n",
       "    }\n",
       "</style>\n",
       "<table border=\"1\" class=\"dataframe\">\n",
       "  <thead>\n",
       "    <tr style=\"text-align: right;\">\n",
       "      <th></th>\n",
       "      <th>City</th>\n",
       "      <th>PM2.5</th>\n",
       "      <th>NO</th>\n",
       "      <th>NO2</th>\n",
       "      <th>NOx</th>\n",
       "      <th>CO</th>\n",
       "      <th>SO2</th>\n",
       "      <th>O3</th>\n",
       "      <th>Benzene</th>\n",
       "      <th>Toluene</th>\n",
       "      <th>Xylene</th>\n",
       "      <th>AQI</th>\n",
       "      <th>AQI_Bucket</th>\n",
       "    </tr>\n",
       "  </thead>\n",
       "  <tbody>\n",
       "    <tr>\n",
       "      <th>0</th>\n",
       "      <td>Ahmedabad</td>\n",
       "      <td>83.13</td>\n",
       "      <td>6.93</td>\n",
       "      <td>28.71</td>\n",
       "      <td>33.72</td>\n",
       "      <td>6.93</td>\n",
       "      <td>49.52</td>\n",
       "      <td>59.76</td>\n",
       "      <td>0.02</td>\n",
       "      <td>0.00</td>\n",
       "      <td>3.14</td>\n",
       "      <td>209</td>\n",
       "      <td>3</td>\n",
       "    </tr>\n",
       "    <tr>\n",
       "      <th>1</th>\n",
       "      <td>Ahmedabad</td>\n",
       "      <td>79.84</td>\n",
       "      <td>13.85</td>\n",
       "      <td>28.68</td>\n",
       "      <td>41.08</td>\n",
       "      <td>13.85</td>\n",
       "      <td>48.49</td>\n",
       "      <td>97.07</td>\n",
       "      <td>0.04</td>\n",
       "      <td>0.00</td>\n",
       "      <td>4.81</td>\n",
       "      <td>328</td>\n",
       "      <td>2</td>\n",
       "    </tr>\n",
       "    <tr>\n",
       "      <th>2</th>\n",
       "      <td>Ahmedabad</td>\n",
       "      <td>94.52</td>\n",
       "      <td>24.39</td>\n",
       "      <td>32.66</td>\n",
       "      <td>52.61</td>\n",
       "      <td>24.39</td>\n",
       "      <td>67.39</td>\n",
       "      <td>111.33</td>\n",
       "      <td>0.24</td>\n",
       "      <td>0.01</td>\n",
       "      <td>7.67</td>\n",
       "      <td>514</td>\n",
       "      <td>1</td>\n",
       "    </tr>\n",
       "    <tr>\n",
       "      <th>3</th>\n",
       "      <td>Ahmedabad</td>\n",
       "      <td>135.99</td>\n",
       "      <td>43.48</td>\n",
       "      <td>42.08</td>\n",
       "      <td>84.57</td>\n",
       "      <td>43.48</td>\n",
       "      <td>75.23</td>\n",
       "      <td>102.70</td>\n",
       "      <td>0.40</td>\n",
       "      <td>0.04</td>\n",
       "      <td>25.87</td>\n",
       "      <td>782</td>\n",
       "      <td>1</td>\n",
       "    </tr>\n",
       "    <tr>\n",
       "      <th>4</th>\n",
       "      <td>Ahmedabad</td>\n",
       "      <td>178.33</td>\n",
       "      <td>54.56</td>\n",
       "      <td>35.31</td>\n",
       "      <td>72.80</td>\n",
       "      <td>54.56</td>\n",
       "      <td>55.04</td>\n",
       "      <td>107.38</td>\n",
       "      <td>0.46</td>\n",
       "      <td>0.06</td>\n",
       "      <td>35.61</td>\n",
       "      <td>914</td>\n",
       "      <td>1</td>\n",
       "    </tr>\n",
       "  </tbody>\n",
       "</table>\n",
       "</div>"
      ],
      "text/plain": [
       "        City   PM2.5     NO    NO2    NOx     CO    SO2      O3  Benzene  \\\n",
       "0  Ahmedabad   83.13   6.93  28.71  33.72   6.93  49.52   59.76     0.02   \n",
       "1  Ahmedabad   79.84  13.85  28.68  41.08  13.85  48.49   97.07     0.04   \n",
       "2  Ahmedabad   94.52  24.39  32.66  52.61  24.39  67.39  111.33     0.24   \n",
       "3  Ahmedabad  135.99  43.48  42.08  84.57  43.48  75.23  102.70     0.40   \n",
       "4  Ahmedabad  178.33  54.56  35.31  72.80  54.56  55.04  107.38     0.46   \n",
       "\n",
       "   Toluene  Xylene  AQI  AQI_Bucket  \n",
       "0     0.00    3.14  209           3  \n",
       "1     0.00    4.81  328           2  \n",
       "2     0.01    7.67  514           1  \n",
       "3     0.04   25.87  782           1  \n",
       "4     0.06   35.61  914           1  "
      ]
     },
     "execution_count": 7,
     "metadata": {},
     "output_type": "execute_result"
    }
   ],
   "source": [
    "df.head()"
   ]
  },
  {
   "cell_type": "markdown",
   "id": "147e4140",
   "metadata": {},
   "source": [
    "# Insight\n",
    " ## we do ordinal encording so as to get a finite set of discrete values with a ranked ordering between values."
   ]
  },
  {
   "cell_type": "markdown",
   "id": "5c0d4c3d",
   "metadata": {},
   "source": [
    "# 2.1.2 One Hot Encoding"
   ]
  },
  {
   "cell_type": "code",
   "execution_count": 8,
   "id": "7b5b1b51",
   "metadata": {},
   "outputs": [
    {
     "data": {
      "text/plain": [
       "3"
      ]
     },
     "execution_count": 8,
     "metadata": {},
     "output_type": "execute_result"
    }
   ],
   "source": [
    "df.City.nunique()"
   ]
  },
  {
   "cell_type": "code",
   "execution_count": 9,
   "id": "f961b60e",
   "metadata": {},
   "outputs": [],
   "source": [
    "df=pd.get_dummies(df)"
   ]
  },
  {
   "cell_type": "code",
   "execution_count": 10,
   "id": "11440bc7",
   "metadata": {
    "scrolled": true
   },
   "outputs": [
    {
     "data": {
      "text/html": [
       "<div>\n",
       "<style scoped>\n",
       "    .dataframe tbody tr th:only-of-type {\n",
       "        vertical-align: middle;\n",
       "    }\n",
       "\n",
       "    .dataframe tbody tr th {\n",
       "        vertical-align: top;\n",
       "    }\n",
       "\n",
       "    .dataframe thead th {\n",
       "        text-align: right;\n",
       "    }\n",
       "</style>\n",
       "<table border=\"1\" class=\"dataframe\">\n",
       "  <thead>\n",
       "    <tr style=\"text-align: right;\">\n",
       "      <th></th>\n",
       "      <th>PM2.5</th>\n",
       "      <th>NO</th>\n",
       "      <th>NO2</th>\n",
       "      <th>NOx</th>\n",
       "      <th>CO</th>\n",
       "      <th>SO2</th>\n",
       "      <th>O3</th>\n",
       "      <th>Benzene</th>\n",
       "      <th>Toluene</th>\n",
       "      <th>Xylene</th>\n",
       "      <th>AQI</th>\n",
       "      <th>AQI_Bucket</th>\n",
       "      <th>City_Ahmedabad</th>\n",
       "      <th>City_Amaravati</th>\n",
       "      <th>City_Amritsar</th>\n",
       "    </tr>\n",
       "  </thead>\n",
       "  <tbody>\n",
       "    <tr>\n",
       "      <th>0</th>\n",
       "      <td>83.13</td>\n",
       "      <td>6.93</td>\n",
       "      <td>28.71</td>\n",
       "      <td>33.72</td>\n",
       "      <td>6.93</td>\n",
       "      <td>49.52</td>\n",
       "      <td>59.76</td>\n",
       "      <td>0.02</td>\n",
       "      <td>0.00</td>\n",
       "      <td>3.14</td>\n",
       "      <td>209</td>\n",
       "      <td>3</td>\n",
       "      <td>1</td>\n",
       "      <td>0</td>\n",
       "      <td>0</td>\n",
       "    </tr>\n",
       "    <tr>\n",
       "      <th>1</th>\n",
       "      <td>79.84</td>\n",
       "      <td>13.85</td>\n",
       "      <td>28.68</td>\n",
       "      <td>41.08</td>\n",
       "      <td>13.85</td>\n",
       "      <td>48.49</td>\n",
       "      <td>97.07</td>\n",
       "      <td>0.04</td>\n",
       "      <td>0.00</td>\n",
       "      <td>4.81</td>\n",
       "      <td>328</td>\n",
       "      <td>2</td>\n",
       "      <td>1</td>\n",
       "      <td>0</td>\n",
       "      <td>0</td>\n",
       "    </tr>\n",
       "    <tr>\n",
       "      <th>2</th>\n",
       "      <td>94.52</td>\n",
       "      <td>24.39</td>\n",
       "      <td>32.66</td>\n",
       "      <td>52.61</td>\n",
       "      <td>24.39</td>\n",
       "      <td>67.39</td>\n",
       "      <td>111.33</td>\n",
       "      <td>0.24</td>\n",
       "      <td>0.01</td>\n",
       "      <td>7.67</td>\n",
       "      <td>514</td>\n",
       "      <td>1</td>\n",
       "      <td>1</td>\n",
       "      <td>0</td>\n",
       "      <td>0</td>\n",
       "    </tr>\n",
       "    <tr>\n",
       "      <th>3</th>\n",
       "      <td>135.99</td>\n",
       "      <td>43.48</td>\n",
       "      <td>42.08</td>\n",
       "      <td>84.57</td>\n",
       "      <td>43.48</td>\n",
       "      <td>75.23</td>\n",
       "      <td>102.70</td>\n",
       "      <td>0.40</td>\n",
       "      <td>0.04</td>\n",
       "      <td>25.87</td>\n",
       "      <td>782</td>\n",
       "      <td>1</td>\n",
       "      <td>1</td>\n",
       "      <td>0</td>\n",
       "      <td>0</td>\n",
       "    </tr>\n",
       "    <tr>\n",
       "      <th>4</th>\n",
       "      <td>178.33</td>\n",
       "      <td>54.56</td>\n",
       "      <td>35.31</td>\n",
       "      <td>72.80</td>\n",
       "      <td>54.56</td>\n",
       "      <td>55.04</td>\n",
       "      <td>107.38</td>\n",
       "      <td>0.46</td>\n",
       "      <td>0.06</td>\n",
       "      <td>35.61</td>\n",
       "      <td>914</td>\n",
       "      <td>1</td>\n",
       "      <td>1</td>\n",
       "      <td>0</td>\n",
       "      <td>0</td>\n",
       "    </tr>\n",
       "  </tbody>\n",
       "</table>\n",
       "</div>"
      ],
      "text/plain": [
       "    PM2.5     NO    NO2    NOx     CO    SO2      O3  Benzene  Toluene  \\\n",
       "0   83.13   6.93  28.71  33.72   6.93  49.52   59.76     0.02     0.00   \n",
       "1   79.84  13.85  28.68  41.08  13.85  48.49   97.07     0.04     0.00   \n",
       "2   94.52  24.39  32.66  52.61  24.39  67.39  111.33     0.24     0.01   \n",
       "3  135.99  43.48  42.08  84.57  43.48  75.23  102.70     0.40     0.04   \n",
       "4  178.33  54.56  35.31  72.80  54.56  55.04  107.38     0.46     0.06   \n",
       "\n",
       "   Xylene  AQI  AQI_Bucket  City_Ahmedabad  City_Amaravati  City_Amritsar  \n",
       "0    3.14  209           3               1               0              0  \n",
       "1    4.81  328           2               1               0              0  \n",
       "2    7.67  514           1               1               0              0  \n",
       "3   25.87  782           1               1               0              0  \n",
       "4   35.61  914           1               1               0              0  "
      ]
     },
     "execution_count": 10,
     "metadata": {},
     "output_type": "execute_result"
    }
   ],
   "source": [
    "df.head()"
   ]
  },
  {
   "cell_type": "markdown",
   "id": "00b8ec98",
   "metadata": {},
   "source": [
    "# Insight\n",
    "## For categorical variables where no ordinal relationship exists we use One hot encoding and one new binary variable is added for each unique integer value in the variable."
   ]
  },
  {
   "cell_type": "markdown",
   "id": "fa7cfc9e",
   "metadata": {},
   "source": [
    "# 2.2 Missing value handling"
   ]
  },
  {
   "cell_type": "code",
   "execution_count": 11,
   "id": "fb68aa82",
   "metadata": {},
   "outputs": [
    {
     "name": "stdout",
     "output_type": "stream",
     "text": [
      "<class 'pandas.core.frame.DataFrame'>\n",
      "RangeIndex: 2552 entries, 0 to 2551\n",
      "Data columns (total 15 columns):\n",
      " #   Column          Non-Null Count  Dtype  \n",
      "---  ------          --------------  -----  \n",
      " 0   PM2.5           2551 non-null   float64\n",
      " 1   NO              2552 non-null   float64\n",
      " 2   NO2             2552 non-null   float64\n",
      " 3   NOx             2551 non-null   float64\n",
      " 4   CO              2550 non-null   float64\n",
      " 5   SO2             2532 non-null   float64\n",
      " 6   O3              2526 non-null   float64\n",
      " 7   Benzene         2551 non-null   float64\n",
      " 8   Toluene         2551 non-null   float64\n",
      " 9   Xylene          2465 non-null   float64\n",
      " 10  AQI             2552 non-null   int64  \n",
      " 11  AQI_Bucket      2552 non-null   int64  \n",
      " 12  City_Ahmedabad  2552 non-null   uint8  \n",
      " 13  City_Amaravati  2552 non-null   uint8  \n",
      " 14  City_Amritsar   2552 non-null   uint8  \n",
      "dtypes: float64(10), int64(2), uint8(3)\n",
      "memory usage: 246.9 KB\n"
     ]
    }
   ],
   "source": [
    "df.info()"
   ]
  },
  {
   "cell_type": "code",
   "execution_count": 12,
   "id": "c092ba9d",
   "metadata": {},
   "outputs": [
    {
     "data": {
      "text/plain": [
       "PM2.5              1\n",
       "NO                 0\n",
       "NO2                0\n",
       "NOx                1\n",
       "CO                 2\n",
       "SO2               20\n",
       "O3                26\n",
       "Benzene            1\n",
       "Toluene            1\n",
       "Xylene            87\n",
       "AQI                0\n",
       "AQI_Bucket         0\n",
       "City_Ahmedabad     0\n",
       "City_Amaravati     0\n",
       "City_Amritsar      0\n",
       "dtype: int64"
      ]
     },
     "execution_count": 12,
     "metadata": {},
     "output_type": "execute_result"
    }
   ],
   "source": [
    "df.isna().sum()"
   ]
  },
  {
   "cell_type": "code",
   "execution_count": 13,
   "id": "f5d65cbb",
   "metadata": {},
   "outputs": [
    {
     "data": {
      "text/plain": [
       "(2552, 15)"
      ]
     },
     "execution_count": 13,
     "metadata": {},
     "output_type": "execute_result"
    }
   ],
   "source": [
    "df.shape"
   ]
  },
  {
   "cell_type": "code",
   "execution_count": 14,
   "id": "9eb7fd16",
   "metadata": {},
   "outputs": [
    {
     "data": {
      "text/html": [
       "<div>\n",
       "<style scoped>\n",
       "    .dataframe tbody tr th:only-of-type {\n",
       "        vertical-align: middle;\n",
       "    }\n",
       "\n",
       "    .dataframe tbody tr th {\n",
       "        vertical-align: top;\n",
       "    }\n",
       "\n",
       "    .dataframe thead th {\n",
       "        text-align: right;\n",
       "    }\n",
       "</style>\n",
       "<table border=\"1\" class=\"dataframe\">\n",
       "  <thead>\n",
       "    <tr style=\"text-align: right;\">\n",
       "      <th></th>\n",
       "      <th>PM2.5</th>\n",
       "      <th>NO</th>\n",
       "      <th>NO2</th>\n",
       "      <th>NOx</th>\n",
       "      <th>CO</th>\n",
       "      <th>SO2</th>\n",
       "      <th>O3</th>\n",
       "      <th>Benzene</th>\n",
       "      <th>Toluene</th>\n",
       "      <th>Xylene</th>\n",
       "      <th>AQI</th>\n",
       "      <th>AQI_Bucket</th>\n",
       "      <th>City_Ahmedabad</th>\n",
       "      <th>City_Amaravati</th>\n",
       "      <th>City_Amritsar</th>\n",
       "    </tr>\n",
       "  </thead>\n",
       "  <tbody>\n",
       "    <tr>\n",
       "      <th>count</th>\n",
       "      <td>2551.000000</td>\n",
       "      <td>2552.000000</td>\n",
       "      <td>2552.000000</td>\n",
       "      <td>2551.000000</td>\n",
       "      <td>2550.000000</td>\n",
       "      <td>2532.000000</td>\n",
       "      <td>2526.000000</td>\n",
       "      <td>2551.000000</td>\n",
       "      <td>2551.000000</td>\n",
       "      <td>2465.000000</td>\n",
       "      <td>2552.000000</td>\n",
       "      <td>2552.000000</td>\n",
       "      <td>2552.000000</td>\n",
       "      <td>2552.000000</td>\n",
       "      <td>2552.000000</td>\n",
       "    </tr>\n",
       "    <tr>\n",
       "      <th>mean</th>\n",
       "      <td>58.511360</td>\n",
       "      <td>17.002457</td>\n",
       "      <td>40.264538</td>\n",
       "      <td>36.598432</td>\n",
       "      <td>10.992220</td>\n",
       "      <td>33.314439</td>\n",
       "      <td>35.382003</td>\n",
       "      <td>4.015512</td>\n",
       "      <td>16.518408</td>\n",
       "      <td>4.411241</td>\n",
       "      <td>277.777429</td>\n",
       "      <td>3.355016</td>\n",
       "      <td>0.474138</td>\n",
       "      <td>0.287226</td>\n",
       "      <td>0.238636</td>\n",
       "    </tr>\n",
       "    <tr>\n",
       "      <th>std</th>\n",
       "      <td>38.646186</td>\n",
       "      <td>18.507823</td>\n",
       "      <td>40.717135</td>\n",
       "      <td>30.633551</td>\n",
       "      <td>18.435665</td>\n",
       "      <td>36.156384</td>\n",
       "      <td>20.577394</td>\n",
       "      <td>6.557780</td>\n",
       "      <td>25.467983</td>\n",
       "      <td>7.744910</td>\n",
       "      <td>282.976905</td>\n",
       "      <td>1.627907</td>\n",
       "      <td>0.499429</td>\n",
       "      <td>0.452556</td>\n",
       "      <td>0.426334</td>\n",
       "    </tr>\n",
       "    <tr>\n",
       "      <th>min</th>\n",
       "      <td>3.040000</td>\n",
       "      <td>0.060000</td>\n",
       "      <td>0.080000</td>\n",
       "      <td>0.860000</td>\n",
       "      <td>0.000000</td>\n",
       "      <td>0.520000</td>\n",
       "      <td>0.380000</td>\n",
       "      <td>0.000000</td>\n",
       "      <td>0.000000</td>\n",
       "      <td>0.000000</td>\n",
       "      <td>24.000000</td>\n",
       "      <td>1.000000</td>\n",
       "      <td>0.000000</td>\n",
       "      <td>0.000000</td>\n",
       "      <td>0.000000</td>\n",
       "    </tr>\n",
       "    <tr>\n",
       "      <th>25%</th>\n",
       "      <td>31.245000</td>\n",
       "      <td>4.797500</td>\n",
       "      <td>11.997500</td>\n",
       "      <td>16.485000</td>\n",
       "      <td>0.592500</td>\n",
       "      <td>9.827500</td>\n",
       "      <td>21.012500</td>\n",
       "      <td>0.300000</td>\n",
       "      <td>1.190000</td>\n",
       "      <td>0.190000</td>\n",
       "      <td>88.000000</td>\n",
       "      <td>2.000000</td>\n",
       "      <td>0.000000</td>\n",
       "      <td>0.000000</td>\n",
       "      <td>0.000000</td>\n",
       "    </tr>\n",
       "    <tr>\n",
       "      <th>50%</th>\n",
       "      <td>49.040000</td>\n",
       "      <td>11.290000</td>\n",
       "      <td>22.800000</td>\n",
       "      <td>26.990000</td>\n",
       "      <td>1.170000</td>\n",
       "      <td>16.595000</td>\n",
       "      <td>32.035000</td>\n",
       "      <td>2.080000</td>\n",
       "      <td>4.100000</td>\n",
       "      <td>1.980000</td>\n",
       "      <td>174.000000</td>\n",
       "      <td>4.000000</td>\n",
       "      <td>0.000000</td>\n",
       "      <td>0.000000</td>\n",
       "      <td>0.000000</td>\n",
       "    </tr>\n",
       "    <tr>\n",
       "      <th>75%</th>\n",
       "      <td>77.945000</td>\n",
       "      <td>21.477500</td>\n",
       "      <td>56.522500</td>\n",
       "      <td>48.750000</td>\n",
       "      <td>15.162500</td>\n",
       "      <td>45.365000</td>\n",
       "      <td>45.687500</td>\n",
       "      <td>4.655000</td>\n",
       "      <td>29.525000</td>\n",
       "      <td>6.940000</td>\n",
       "      <td>361.250000</td>\n",
       "      <td>5.000000</td>\n",
       "      <td>1.000000</td>\n",
       "      <td>1.000000</td>\n",
       "      <td>0.000000</td>\n",
       "    </tr>\n",
       "    <tr>\n",
       "      <th>max</th>\n",
       "      <td>381.690000</td>\n",
       "      <td>175.810000</td>\n",
       "      <td>277.310000</td>\n",
       "      <td>246.030000</td>\n",
       "      <td>175.810000</td>\n",
       "      <td>186.080000</td>\n",
       "      <td>162.430000</td>\n",
       "      <td>115.140000</td>\n",
       "      <td>371.650000</td>\n",
       "      <td>125.180000</td>\n",
       "      <td>2049.000000</td>\n",
       "      <td>6.000000</td>\n",
       "      <td>1.000000</td>\n",
       "      <td>1.000000</td>\n",
       "      <td>1.000000</td>\n",
       "    </tr>\n",
       "  </tbody>\n",
       "</table>\n",
       "</div>"
      ],
      "text/plain": [
       "             PM2.5           NO          NO2          NOx           CO  \\\n",
       "count  2551.000000  2552.000000  2552.000000  2551.000000  2550.000000   \n",
       "mean     58.511360    17.002457    40.264538    36.598432    10.992220   \n",
       "std      38.646186    18.507823    40.717135    30.633551    18.435665   \n",
       "min       3.040000     0.060000     0.080000     0.860000     0.000000   \n",
       "25%      31.245000     4.797500    11.997500    16.485000     0.592500   \n",
       "50%      49.040000    11.290000    22.800000    26.990000     1.170000   \n",
       "75%      77.945000    21.477500    56.522500    48.750000    15.162500   \n",
       "max     381.690000   175.810000   277.310000   246.030000   175.810000   \n",
       "\n",
       "               SO2           O3      Benzene      Toluene       Xylene  \\\n",
       "count  2532.000000  2526.000000  2551.000000  2551.000000  2465.000000   \n",
       "mean     33.314439    35.382003     4.015512    16.518408     4.411241   \n",
       "std      36.156384    20.577394     6.557780    25.467983     7.744910   \n",
       "min       0.520000     0.380000     0.000000     0.000000     0.000000   \n",
       "25%       9.827500    21.012500     0.300000     1.190000     0.190000   \n",
       "50%      16.595000    32.035000     2.080000     4.100000     1.980000   \n",
       "75%      45.365000    45.687500     4.655000    29.525000     6.940000   \n",
       "max     186.080000   162.430000   115.140000   371.650000   125.180000   \n",
       "\n",
       "               AQI   AQI_Bucket  City_Ahmedabad  City_Amaravati  City_Amritsar  \n",
       "count  2552.000000  2552.000000     2552.000000     2552.000000    2552.000000  \n",
       "mean    277.777429     3.355016        0.474138        0.287226       0.238636  \n",
       "std     282.976905     1.627907        0.499429        0.452556       0.426334  \n",
       "min      24.000000     1.000000        0.000000        0.000000       0.000000  \n",
       "25%      88.000000     2.000000        0.000000        0.000000       0.000000  \n",
       "50%     174.000000     4.000000        0.000000        0.000000       0.000000  \n",
       "75%     361.250000     5.000000        1.000000        1.000000       0.000000  \n",
       "max    2049.000000     6.000000        1.000000        1.000000       1.000000  "
      ]
     },
     "execution_count": 14,
     "metadata": {},
     "output_type": "execute_result"
    }
   ],
   "source": [
    "df.describe()"
   ]
  },
  {
   "cell_type": "code",
   "execution_count": 15,
   "id": "5aeb5060",
   "metadata": {},
   "outputs": [
    {
     "data": {
      "image/png": "[encoded data removed]",
      "text/plain": [
       "<Figure size 1440x1080 with 12 Axes>"
      ]
     },
     "metadata": {
      "needs_background": "light"
     },
     "output_type": "display_data"
    }
   ],
   "source": [
    "freqgraph=df.select_dtypes(include=['float'])\n",
    "freqgraph.hist(figsize=(20,15))\n",
    "plt.show()"
   ]
  },
  {
   "cell_type": "markdown",
   "id": "0ad28904",
   "metadata": {},
   "source": [
    "# Insight \n",
    "## All the data following right skewed distribution."
   ]
  },
  {
   "cell_type": "code",
   "execution_count": 16,
   "id": "f9c50343",
   "metadata": {},
   "outputs": [
    {
     "data": {
      "text/plain": [
       "Index(['PM2.5', 'NO', 'NO2', 'NOx', 'CO', 'SO2', 'O3', 'Benzene', 'Toluene',\n",
       "       'Xylene', 'AQI', 'AQI_Bucket', 'City_Ahmedabad', 'City_Amaravati',\n",
       "       'City_Amritsar'],\n",
       "      dtype='object')"
      ]
     },
     "execution_count": 16,
     "metadata": {},
     "output_type": "execute_result"
    }
   ],
   "source": [
    "df.columns"
   ]
  },
  {
   "cell_type": "code",
   "execution_count": 17,
   "id": "15136b75",
   "metadata": {},
   "outputs": [],
   "source": [
    "from sklearn.impute import KNNImputer\n",
    "imputer = KNNImputer(n_neighbors=2)\n",
    "df = pd.DataFrame(imputer.fit_transform(df),columns = df.columns)"
   ]
  },
  {
   "cell_type": "code",
   "execution_count": 18,
   "id": "ae6f5c54",
   "metadata": {},
   "outputs": [
    {
     "data": {
      "text/plain": [
       "PM2.5             0\n",
       "NO                0\n",
       "NO2               0\n",
       "NOx               0\n",
       "CO                0\n",
       "SO2               0\n",
       "O3                0\n",
       "Benzene           0\n",
       "Toluene           0\n",
       "Xylene            0\n",
       "AQI               0\n",
       "AQI_Bucket        0\n",
       "City_Ahmedabad    0\n",
       "City_Amaravati    0\n",
       "City_Amritsar     0\n",
       "dtype: int64"
      ]
     },
     "execution_count": 18,
     "metadata": {},
     "output_type": "execute_result"
    }
   ],
   "source": [
    "df.isna().sum()"
   ]
  },
  {
   "cell_type": "markdown",
   "id": "79e23bc5",
   "metadata": {},
   "source": [
    "# Insight\n",
    "## The missing values are handled using KNNImputer"
   ]
  },
  {
   "cell_type": "markdown",
   "id": "afbbbc6c",
   "metadata": {},
   "source": [
    "# 2.3 Outlier detection and handling"
   ]
  },
  {
   "cell_type": "code",
   "execution_count": 19,
   "id": "7f437c6f",
   "metadata": {},
   "outputs": [
    {
     "data": {
      "text/plain": [
       "{'whiskers': [<matplotlib.lines.Line2D at 0x14e9b7c6040>,\n",
       "  <matplotlib.lines.Line2D at 0x14e9b7e5be0>,\n",
       "  <matplotlib.lines.Line2D at 0x14e9b7a6d30>,\n",
       "  <matplotlib.lines.Line2D at 0x14e9b7a6100>,\n",
       "  <matplotlib.lines.Line2D at 0x14e9b5945e0>,\n",
       "  <matplotlib.lines.Line2D at 0x14e9b5948b0>,\n",
       "  <matplotlib.lines.Line2D at 0x14e9c043610>,\n",
       "  <matplotlib.lines.Line2D at 0x14e9b630fa0>,\n",
       "  <matplotlib.lines.Line2D at 0x14e9b853b80>,\n",
       "  <matplotlib.lines.Line2D at 0x14e9b853fa0>,\n",
       "  <matplotlib.lines.Line2D at 0x14e9b892850>,\n",
       "  <matplotlib.lines.Line2D at 0x14e9b89e160>,\n",
       "  <matplotlib.lines.Line2D at 0x14e9b7065b0>,\n",
       "  <matplotlib.lines.Line2D at 0x14e9b706880>,\n",
       "  <matplotlib.lines.Line2D at 0x14e9b8b8340>,\n",
       "  <matplotlib.lines.Line2D at 0x14e9b8b8c10>,\n",
       "  <matplotlib.lines.Line2D at 0x14e9c0261f0>,\n",
       "  <matplotlib.lines.Line2D at 0x14e9c026af0>,\n",
       "  <matplotlib.lines.Line2D at 0x14e9b7f41c0>,\n",
       "  <matplotlib.lines.Line2D at 0x14e9b7f4610>,\n",
       "  <matplotlib.lines.Line2D at 0x14e9b54d100>,\n",
       "  <matplotlib.lines.Line2D at 0x14e9c033340>],\n",
       " 'caps': [<matplotlib.lines.Line2D at 0x14e9b7e5430>,\n",
       "  <matplotlib.lines.Line2D at 0x14e9b7e5850>,\n",
       "  <matplotlib.lines.Line2D at 0x14e9b7a6640>,\n",
       "  <matplotlib.lines.Line2D at 0x14e9b5fe9d0>,\n",
       "  <matplotlib.lines.Line2D at 0x14e9b5947c0>,\n",
       "  <matplotlib.lines.Line2D at 0x14e9b5942b0>,\n",
       "  <matplotlib.lines.Line2D at 0x14e9b6307c0>,\n",
       "  <matplotlib.lines.Line2D at 0x14e9b630850>,\n",
       "  <matplotlib.lines.Line2D at 0x14e9b853610>,\n",
       "  <matplotlib.lines.Line2D at 0x14e9b8921f0>,\n",
       "  <matplotlib.lines.Line2D at 0x14e9b89e730>,\n",
       "  <matplotlib.lines.Line2D at 0x14e9b89ed60>,\n",
       "  <matplotlib.lines.Line2D at 0x14e9c0000d0>,\n",
       "  <matplotlib.lines.Line2D at 0x14e9c000a00>,\n",
       "  <matplotlib.lines.Line2D at 0x14e9b8b81c0>,\n",
       "  <matplotlib.lines.Line2D at 0x14e9b8b8220>,\n",
       "  <matplotlib.lines.Line2D at 0x14e9c0503d0>,\n",
       "  <matplotlib.lines.Line2D at 0x14e9c050940>,\n",
       "  <matplotlib.lines.Line2D at 0x14e9b7f4970>,\n",
       "  <matplotlib.lines.Line2D at 0x14e9b7f4730>,\n",
       "  <matplotlib.lines.Line2D at 0x14e9c033a30>,\n",
       "  <matplotlib.lines.Line2D at 0x14e9c033070>],\n",
       " 'boxes': [<matplotlib.lines.Line2D at 0x14e9b7c6f40>,\n",
       "  <matplotlib.lines.Line2D at 0x14e9b7a6730>,\n",
       "  <matplotlib.lines.Line2D at 0x14e9b5fe880>,\n",
       "  <matplotlib.lines.Line2D at 0x14e9c043eb0>,\n",
       "  <matplotlib.lines.Line2D at 0x14e9b853850>,\n",
       "  <matplotlib.lines.Line2D at 0x14e9b892eb0>,\n",
       "  <matplotlib.lines.Line2D at 0x14e9b706c40>,\n",
       "  <matplotlib.lines.Line2D at 0x14e9b98e820>,\n",
       "  <matplotlib.lines.Line2D at 0x14e9c026d60>,\n",
       "  <matplotlib.lines.Line2D at 0x14e9b9a9730>,\n",
       "  <matplotlib.lines.Line2D at 0x14e9b54d4f0>],\n",
       " 'medians': [<matplotlib.lines.Line2D at 0x14e9b7e5f70>,\n",
       "  <matplotlib.lines.Line2D at 0x14e9b5fe2e0>,\n",
       "  <matplotlib.lines.Line2D at 0x14e9b594d60>,\n",
       "  <matplotlib.lines.Line2D at 0x14e9b630f70>,\n",
       "  <matplotlib.lines.Line2D at 0x14e9b8926a0>,\n",
       "  <matplotlib.lines.Line2D at 0x14e9b89e9d0>,\n",
       "  <matplotlib.lines.Line2D at 0x14e9c000460>,\n",
       "  <matplotlib.lines.Line2D at 0x14e9b8b8c70>,\n",
       "  <matplotlib.lines.Line2D at 0x14e9b9a9550>,\n",
       "  <matplotlib.lines.Line2D at 0x14e9b54d9d0>,\n",
       "  <matplotlib.lines.Line2D at 0x14e9c0335b0>],\n",
       " 'fliers': [<matplotlib.lines.Line2D at 0x14e9b7e50d0>,\n",
       "  <matplotlib.lines.Line2D at 0x14e9b5feaf0>,\n",
       "  <matplotlib.lines.Line2D at 0x14e9c043790>,\n",
       "  <matplotlib.lines.Line2D at 0x14e9b630a90>,\n",
       "  <matplotlib.lines.Line2D at 0x14e9b892c40>,\n",
       "  <matplotlib.lines.Line2D at 0x14e9b706e20>,\n",
       "  <matplotlib.lines.Line2D at 0x14e9b98e1c0>,\n",
       "  <matplotlib.lines.Line2D at 0x14e9c0265b0>,\n",
       "  <matplotlib.lines.Line2D at 0x14e9b9a99a0>,\n",
       "  <matplotlib.lines.Line2D at 0x14e9b54dd60>,\n",
       "  <matplotlib.lines.Line2D at 0x14e9b8801f0>],\n",
       " 'means': []}"
      ]
     },
     "execution_count": 19,
     "metadata": {},
     "output_type": "execute_result"
    },
    {
     "data": {
      "image/png": "[encoded data removed]",
      "text/plain": [
       "<Figure size 432x288 with 1 Axes>"
      ]
     },
     "metadata": {
      "needs_background": "light"
     },
     "output_type": "display_data"
    }
   ],
   "source": [
    "plt.boxplot(df[['PM2.5', 'NO', 'NO2', 'NOx', 'CO', 'SO2', 'O3', 'Benzene',\n",
    "       'Toluene', 'Xylene', 'AQI']])"
   ]
  },
  {
   "cell_type": "markdown",
   "id": "843d9184",
   "metadata": {},
   "source": [
    "# Insight\n",
    "## outlier removal not possible because of heavy data loss."
   ]
  },
  {
   "cell_type": "markdown",
   "id": "0ee1b8c5",
   "metadata": {},
   "source": [
    "# 2.4 Feature engineering"
   ]
  },
  {
   "cell_type": "code",
   "execution_count": 20,
   "id": "f7110514",
   "metadata": {},
   "outputs": [
    {
     "data": {
      "text/plain": [
       "Index(['PM2.5', 'NO', 'NO2', 'NOx', 'CO', 'SO2', 'O3', 'Benzene', 'Toluene',\n",
       "       'Xylene', 'AQI', 'AQI_Bucket', 'City_Ahmedabad', 'City_Amaravati',\n",
       "       'City_Amritsar'],\n",
       "      dtype='object')"
      ]
     },
     "execution_count": 20,
     "metadata": {},
     "output_type": "execute_result"
    }
   ],
   "source": [
    "df.columns"
   ]
  },
  {
   "cell_type": "code",
   "execution_count": 21,
   "id": "1480bb97",
   "metadata": {},
   "outputs": [],
   "source": [
    "df['mean_nox']=df[['NO', 'NO2', 'NOx']].mean(axis=1)\n",
    "df['sum_nox']=df[['NO', 'NO2', 'NOx']].sum(axis=1)\n",
    "df['skew_nox']=df[['NO', 'NO2', 'NOx']].skew(axis=1)"
   ]
  },
  {
   "cell_type": "markdown",
   "id": "a2dd5459",
   "metadata": {},
   "source": [
    "# Insight\n",
    "## 3 new features are added mean_nox, sum_nox and skew_nox."
   ]
  },
  {
   "cell_type": "markdown",
   "id": "021c589b",
   "metadata": {},
   "source": [
    "# 2.5 Feature reduction"
   ]
  },
  {
   "cell_type": "code",
   "execution_count": 22,
   "id": "9dcc91a2",
   "metadata": {},
   "outputs": [
    {
     "data": {
      "text/plain": [
       "<AxesSubplot:>"
      ]
     },
     "execution_count": 22,
     "metadata": {},
     "output_type": "execute_result"
    },
    {
     "data": {
      "image/png": "[encoded data removed]",
      "text/plain": [
       "<Figure size 720x288 with 2 Axes>"
      ]
     },
     "metadata": {
      "needs_background": "light"
     },
     "output_type": "display_data"
    }
   ],
   "source": [
    "corrvalue = df.corr()\n",
    "plt.subplots(figsize=(10,4))\n",
    "sns.heatmap(corrvalue,vmin=-2,vmax=2,annot=True,linewidth=0.2)"
   ]
  },
  {
   "cell_type": "markdown",
   "id": "67693f19",
   "metadata": {},
   "source": [
    "# Insight\n",
    "## mean_nox and sum_nox has high correlation with NOx hence we remove them"
   ]
  },
  {
   "cell_type": "code",
   "execution_count": 23,
   "id": "27302616",
   "metadata": {},
   "outputs": [],
   "source": [
    "df.drop(['mean_nox','sum_nox'],axis=1,inplace=True)"
   ]
  },
  {
   "cell_type": "code",
   "execution_count": 24,
   "id": "752c1193",
   "metadata": {},
   "outputs": [
    {
     "data": {
      "text/html": [
       "<div>\n",
       "<style scoped>\n",
       "    .dataframe tbody tr th:only-of-type {\n",
       "        vertical-align: middle;\n",
       "    }\n",
       "\n",
       "    .dataframe tbody tr th {\n",
       "        vertical-align: top;\n",
       "    }\n",
       "\n",
       "    .dataframe thead th {\n",
       "        text-align: right;\n",
       "    }\n",
       "</style>\n",
       "<table border=\"1\" class=\"dataframe\">\n",
       "  <thead>\n",
       "    <tr style=\"text-align: right;\">\n",
       "      <th></th>\n",
       "      <th>PM2.5</th>\n",
       "      <th>NO</th>\n",
       "      <th>NO2</th>\n",
       "      <th>NOx</th>\n",
       "      <th>CO</th>\n",
       "      <th>SO2</th>\n",
       "      <th>O3</th>\n",
       "      <th>Benzene</th>\n",
       "      <th>Toluene</th>\n",
       "      <th>Xylene</th>\n",
       "      <th>AQI</th>\n",
       "      <th>AQI_Bucket</th>\n",
       "      <th>City_Ahmedabad</th>\n",
       "      <th>City_Amaravati</th>\n",
       "      <th>City_Amritsar</th>\n",
       "      <th>skew_nox</th>\n",
       "    </tr>\n",
       "  </thead>\n",
       "  <tbody>\n",
       "    <tr>\n",
       "      <th>0</th>\n",
       "      <td>83.13</td>\n",
       "      <td>6.93</td>\n",
       "      <td>28.71</td>\n",
       "      <td>33.72</td>\n",
       "      <td>6.93</td>\n",
       "      <td>49.52</td>\n",
       "      <td>59.76</td>\n",
       "      <td>0.02</td>\n",
       "      <td>0.00</td>\n",
       "      <td>3.14</td>\n",
       "      <td>209.0</td>\n",
       "      <td>3.0</td>\n",
       "      <td>1.0</td>\n",
       "      <td>0.0</td>\n",
       "      <td>0.0</td>\n",
       "      <td>-1.494086</td>\n",
       "    </tr>\n",
       "    <tr>\n",
       "      <th>1</th>\n",
       "      <td>79.84</td>\n",
       "      <td>13.85</td>\n",
       "      <td>28.68</td>\n",
       "      <td>41.08</td>\n",
       "      <td>13.85</td>\n",
       "      <td>48.49</td>\n",
       "      <td>97.07</td>\n",
       "      <td>0.04</td>\n",
       "      <td>0.00</td>\n",
       "      <td>4.81</td>\n",
       "      <td>328.0</td>\n",
       "      <td>2.0</td>\n",
       "      <td>1.0</td>\n",
       "      <td>0.0</td>\n",
       "      <td>0.0</td>\n",
       "      <td>-0.266421</td>\n",
       "    </tr>\n",
       "    <tr>\n",
       "      <th>2</th>\n",
       "      <td>94.52</td>\n",
       "      <td>24.39</td>\n",
       "      <td>32.66</td>\n",
       "      <td>52.61</td>\n",
       "      <td>24.39</td>\n",
       "      <td>67.39</td>\n",
       "      <td>111.33</td>\n",
       "      <td>0.24</td>\n",
       "      <td>0.01</td>\n",
       "      <td>7.67</td>\n",
       "      <td>514.0</td>\n",
       "      <td>1.0</td>\n",
       "      <td>1.0</td>\n",
       "      <td>0.0</td>\n",
       "      <td>0.0</td>\n",
       "      <td>1.120691</td>\n",
       "    </tr>\n",
       "    <tr>\n",
       "      <th>3</th>\n",
       "      <td>135.99</td>\n",
       "      <td>43.48</td>\n",
       "      <td>42.08</td>\n",
       "      <td>84.57</td>\n",
       "      <td>43.48</td>\n",
       "      <td>75.23</td>\n",
       "      <td>102.70</td>\n",
       "      <td>0.40</td>\n",
       "      <td>0.04</td>\n",
       "      <td>25.87</td>\n",
       "      <td>782.0</td>\n",
       "      <td>1.0</td>\n",
       "      <td>1.0</td>\n",
       "      <td>0.0</td>\n",
       "      <td>0.0</td>\n",
       "      <td>1.725498</td>\n",
       "    </tr>\n",
       "    <tr>\n",
       "      <th>4</th>\n",
       "      <td>178.33</td>\n",
       "      <td>54.56</td>\n",
       "      <td>35.31</td>\n",
       "      <td>72.80</td>\n",
       "      <td>54.56</td>\n",
       "      <td>55.04</td>\n",
       "      <td>107.38</td>\n",
       "      <td>0.46</td>\n",
       "      <td>0.06</td>\n",
       "      <td>35.61</td>\n",
       "      <td>914.0</td>\n",
       "      <td>1.0</td>\n",
       "      <td>1.0</td>\n",
       "      <td>0.0</td>\n",
       "      <td>0.0</td>\n",
       "      <td>-0.080786</td>\n",
       "    </tr>\n",
       "  </tbody>\n",
       "</table>\n",
       "</div>"
      ],
      "text/plain": [
       "    PM2.5     NO    NO2    NOx     CO    SO2      O3  Benzene  Toluene  \\\n",
       "0   83.13   6.93  28.71  33.72   6.93  49.52   59.76     0.02     0.00   \n",
       "1   79.84  13.85  28.68  41.08  13.85  48.49   97.07     0.04     0.00   \n",
       "2   94.52  24.39  32.66  52.61  24.39  67.39  111.33     0.24     0.01   \n",
       "3  135.99  43.48  42.08  84.57  43.48  75.23  102.70     0.40     0.04   \n",
       "4  178.33  54.56  35.31  72.80  54.56  55.04  107.38     0.46     0.06   \n",
       "\n",
       "   Xylene    AQI  AQI_Bucket  City_Ahmedabad  City_Amaravati  City_Amritsar  \\\n",
       "0    3.14  209.0         3.0             1.0             0.0            0.0   \n",
       "1    4.81  328.0         2.0             1.0             0.0            0.0   \n",
       "2    7.67  514.0         1.0             1.0             0.0            0.0   \n",
       "3   25.87  782.0         1.0             1.0             0.0            0.0   \n",
       "4   35.61  914.0         1.0             1.0             0.0            0.0   \n",
       "\n",
       "   skew_nox  \n",
       "0 -1.494086  \n",
       "1 -0.266421  \n",
       "2  1.120691  \n",
       "3  1.725498  \n",
       "4 -0.080786  "
      ]
     },
     "execution_count": 24,
     "metadata": {},
     "output_type": "execute_result"
    }
   ],
   "source": [
    "df.head()"
   ]
  },
  {
   "cell_type": "markdown",
   "id": "23db13ac",
   "metadata": {},
   "source": [
    "# Splitting the data"
   ]
  },
  {
   "cell_type": "code",
   "execution_count": 25,
   "id": "ca1dde37",
   "metadata": {},
   "outputs": [
    {
     "data": {
      "text/plain": [
       "Index(['PM2.5', 'NO', 'NO2', 'NOx', 'CO', 'SO2', 'O3', 'Benzene', 'Toluene',\n",
       "       'Xylene', 'AQI', 'AQI_Bucket', 'City_Ahmedabad', 'City_Amaravati',\n",
       "       'City_Amritsar', 'skew_nox'],\n",
       "      dtype='object')"
      ]
     },
     "execution_count": 25,
     "metadata": {},
     "output_type": "execute_result"
    }
   ],
   "source": [
    "df.columns"
   ]
  },
  {
   "cell_type": "code",
   "execution_count": 26,
   "id": "7ddc6a90",
   "metadata": {},
   "outputs": [],
   "source": [
    "x=df.drop(['AQI_Bucket'],axis=1)\n",
    "y=df['AQI_Bucket']\n",
    "from sklearn.model_selection import train_test_split\n",
    "x_train,x_test,y_train,y_test=train_test_split(x,y,test_size=0.2,random_state=42)"
   ]
  },
  {
   "cell_type": "markdown",
   "id": "3a81c5f9",
   "metadata": {},
   "source": [
    "# 2.6 Standardisation/Normalization"
   ]
  },
  {
   "cell_type": "markdown",
   "id": "75491a30",
   "metadata": {},
   "source": [
    "# 2.6.1 Scaling using Standard Scaler"
   ]
  },
  {
   "cell_type": "code",
   "execution_count": 27,
   "id": "074e0c8c",
   "metadata": {},
   "outputs": [],
   "source": [
    "from sklearn.preprocessing import StandardScaler\n",
    "sc = StandardScaler()\n",
    "x_train = sc.fit_transform(x_train)\n",
    "x_test = sc.transform(x_test)\n",
    "x_train=pd.DataFrame(x_train)\n",
    "x_test=pd.DataFrame(x_test)"
   ]
  },
  {
   "cell_type": "markdown",
   "id": "805fef86",
   "metadata": {},
   "source": [
    "# 3. Exploratory Data Analysis (EDA)"
   ]
  },
  {
   "cell_type": "markdown",
   "id": "d3da6d79",
   "metadata": {},
   "source": [
    "# 3.1 Univariate analysis"
   ]
  },
  {
   "cell_type": "code",
   "execution_count": 89,
   "id": "06c22916",
   "metadata": {},
   "outputs": [
    {
     "data": {
      "text/plain": [
       "Text(0, 0.5, 'AQI rating count')"
      ]
     },
     "execution_count": 89,
     "metadata": {},
     "output_type": "execute_result"
    },
    {
     "data": {
      "image/png": "[encoded data removed]",
      "text/plain": [
       "<Figure size 1440x1080 with 1 Axes>"
      ]
     },
     "metadata": {
      "needs_background": "light"
     },
     "output_type": "display_data"
    }
   ],
   "source": [
    "plt.figure(figsize=(20,15))\n",
    "plt.ylim(0,600)\n",
    "plt.xlabel(\"City\",fontsize=20)\n",
    "graph=sns.countplot(x='City',data=df1,hue=\"AQI_Bucket\")\n",
    "plt.title('City vs count of AQI rating',size=30)\n",
    "for p in graph.patches:\n",
    "        graph.annotate('{}'.format(p.get_height()), (p.get_x(), p.get_height()+5))\n",
    "plt.ylabel(\"AQI rating count\",fontsize=20)"
   ]
  },
  {
   "cell_type": "markdown",
   "id": "c34674cc",
   "metadata": {},
   "source": [
    "# Insight\n",
    "## Amarvati is found to show more entries of good and satisfactory AQI  where as Ahmeadabad is is found to have more number of very severe Air Quality. Hence we can say that Amarvati has cleaner air than the other two places. "
   ]
  },
  {
   "cell_type": "markdown",
   "id": "f060a034",
   "metadata": {},
   "source": [
    "# 3.2 Bivariate analysis"
   ]
  },
  {
   "cell_type": "code",
   "execution_count": 29,
   "id": "4ef2318f",
   "metadata": {},
   "outputs": [
    {
     "data": {
      "text/plain": [
       "Text(0.5, 1.0, 'NOx vs NO2')"
      ]
     },
     "execution_count": 29,
     "metadata": {},
     "output_type": "execute_result"
    },
    {
     "data": {
      "image/png": "[encoded data removed]",
      "text/plain": [
       "<Figure size 1440x720 with 1 Axes>"
      ]
     },
     "metadata": {
      "needs_background": "light"
     },
     "output_type": "display_data"
    }
   ],
   "source": [
    "plt.figure(figsize=(20,10))\n",
    "sns.scatterplot(x='NOx',y='NO2',data=df1)\n",
    "plt.title('NOx vs NO2',size=20)"
   ]
  },
  {
   "cell_type": "markdown",
   "id": "533bc696",
   "metadata": {},
   "source": [
    "# Insight\n",
    "## NO2 and NOx is found to show some close relation in the lower range while as the value increase they seem to spread out."
   ]
  },
  {
   "cell_type": "code",
   "execution_count": 30,
   "id": "8e3354f2",
   "metadata": {},
   "outputs": [
    {
     "data": {
      "text/plain": [
       "<AxesSubplot:>"
      ]
     },
     "execution_count": 30,
     "metadata": {},
     "output_type": "execute_result"
    },
    {
     "data": {
      "image/png": "[encoded data removed]",
      "text/plain": [
       "<Figure size 1440x576 with 2 Axes>"
      ]
     },
     "metadata": {
      "needs_background": "light"
     },
     "output_type": "display_data"
    }
   ],
   "source": [
    "corrmatrix=df1[['NO','NO2','NOx']].corr()\n",
    "plt.subplots(figsize=(20,8))\n",
    "sns.heatmap(corrmatrix,vmin=.4,vmax=.9,annot=True,linewidth=0.3)"
   ]
  },
  {
   "cell_type": "markdown",
   "id": "07c53ce4",
   "metadata": {},
   "source": [
    "# Insight\n",
    "## NO and NO2 are found to show good correlation with NOx (.77 and .79 Respectively)"
   ]
  },
  {
   "cell_type": "markdown",
   "id": "6a44cee5",
   "metadata": {},
   "source": [
    "# 4. Modeling\n"
   ]
  },
  {
   "cell_type": "code",
   "execution_count": 31,
   "id": "960207b2",
   "metadata": {},
   "outputs": [],
   "source": [
    "from sklearn.metrics import confusion_matrix, accuracy_score,f1_score,precision_score,recall_score"
   ]
  },
  {
   "cell_type": "markdown",
   "id": "6a0c76ab",
   "metadata": {},
   "source": [
    "# 4.1. Building the model using RandomForestClassifier"
   ]
  },
  {
   "cell_type": "code",
   "execution_count": 32,
   "id": "0577a254",
   "metadata": {},
   "outputs": [],
   "source": [
    "from sklearn.ensemble import RandomForestClassifier\n",
    "rf=RandomForestClassifier()\n",
    "rf.fit(x_train,y_train)\n",
    "y_pred=rf.predict(x_test)"
   ]
  },
  {
   "cell_type": "code",
   "execution_count": 33,
   "id": "394670c6",
   "metadata": {},
   "outputs": [
    {
     "name": "stdout",
     "output_type": "stream",
     "text": [
      "Accuracy is: 0.9823874755381604\n",
      "Precision is: 0.9826226752600273\n",
      "Recall is: 0.9823874755381604\n",
      "F1 Score is: 0.9823218952979003\n"
     ]
    }
   ],
   "source": [
    "print(\"Accuracy is:\",accuracy_score(y_test,y_pred))\n",
    "print(\"Precision is:\",precision_score(y_test,y_pred,average='weighted'))\n",
    "print(\"Recall is:\",recall_score(y_test,y_pred,average='weighted'))\n",
    "print(\"F1 Score is:\",f1_score(y_test,y_pred,average='weighted'))"
   ]
  },
  {
   "cell_type": "code",
   "execution_count": 34,
   "id": "5e8a1cf4",
   "metadata": {},
   "outputs": [
    {
     "data": {
      "text/plain": [
       "array([[118,   0,   0,   0,   0,   0],\n",
       "       [  1,  55,   1,   0,   0,   0],\n",
       "       [  0,   3,  53,   1,   0,   0],\n",
       "       [  0,   1,   0, 117,   0,   0],\n",
       "       [  0,   0,   0,   0, 124,   0],\n",
       "       [  0,   0,   0,   0,   2,  35]], dtype=int64)"
      ]
     },
     "execution_count": 34,
     "metadata": {},
     "output_type": "execute_result"
    }
   ],
   "source": [
    "confusion_matrix(y_test,y_pred)"
   ]
  },
  {
   "cell_type": "markdown",
   "id": "ef6960a0",
   "metadata": {},
   "source": [
    "# 4.2 Building the model using Gradient Boosting"
   ]
  },
  {
   "cell_type": "markdown",
   "id": "f1cc00a9",
   "metadata": {},
   "source": [
    "# 4.2.1 Gradient Boosting"
   ]
  },
  {
   "cell_type": "code",
   "execution_count": 35,
   "id": "ba03f786",
   "metadata": {},
   "outputs": [],
   "source": [
    "from sklearn.ensemble import GradientBoostingClassifier\n",
    "gb=GradientBoostingClassifier()\n",
    "gb.fit(x_train,y_train)\n",
    "y_predict=gb.predict(x_test)"
   ]
  },
  {
   "cell_type": "code",
   "execution_count": 36,
   "id": "58234fee",
   "metadata": {},
   "outputs": [
    {
     "name": "stdout",
     "output_type": "stream",
     "text": [
      "Accuracy is: 1.0\n",
      "Precision is: 1.0\n",
      "Recall is: 1.0\n",
      "F1 Score is: 1.0\n"
     ]
    }
   ],
   "source": [
    "print(\"Accuracy is:\",accuracy_score(y_test,y_predict))\n",
    "print(\"Precision is:\",precision_score(y_test,y_predict,average='weighted'))\n",
    "print(\"Recall is:\",recall_score(y_test,y_predict,average='weighted'))\n",
    "print(\"F1 Score is:\",f1_score(y_test,y_predict,average='weighted'))"
   ]
  },
  {
   "cell_type": "code",
   "execution_count": 37,
   "id": "2cf8f548",
   "metadata": {},
   "outputs": [
    {
     "data": {
      "text/plain": [
       "array([[118,   0,   0,   0,   0,   0],\n",
       "       [  0,  57,   0,   0,   0,   0],\n",
       "       [  0,   0,  57,   0,   0,   0],\n",
       "       [  0,   0,   0, 118,   0,   0],\n",
       "       [  0,   0,   0,   0, 124,   0],\n",
       "       [  0,   0,   0,   0,   0,  37]], dtype=int64)"
      ]
     },
     "execution_count": 37,
     "metadata": {},
     "output_type": "execute_result"
    }
   ],
   "source": [
    "confusion_matrix(y_test,y_predict)"
   ]
  },
  {
   "cell_type": "markdown",
   "id": "354cb418",
   "metadata": {},
   "source": [
    "# 4.2.2 Extreme Gradient Boosting"
   ]
  },
  {
   "cell_type": "code",
   "execution_count": 38,
   "id": "b2200465",
   "metadata": {},
   "outputs": [
    {
     "name": "stderr",
     "output_type": "stream",
     "text": [
      "C:\\Users\\NJ\\anaconda3\\lib\\site-packages\\xgboost\\sklearn.py:1224: UserWarning: The use of label encoder in XGBClassifier is deprecated and will be removed in a future release. To remove this warning, do the following: 1) Pass option use_label_encoder=False when constructing XGBClassifier object; and 2) Encode your labels (y) as integers starting with 0, i.e. 0, 1, 2, ..., [num_class - 1].\n",
      "  warnings.warn(label_encoder_deprecation_msg, UserWarning)\n"
     ]
    },
    {
     "name": "stdout",
     "output_type": "stream",
     "text": [
      "[21:14:34] WARNING: C:/Users/Administrator/workspace/xgboost-win64_release_1.5.1/src/learner.cc:1115: Starting in XGBoost 1.3.0, the default evaluation metric used with the objective 'multi:softprob' was changed from 'merror' to 'mlogloss'. Explicitly set eval_metric if you'd like to restore the old behavior.\n"
     ]
    }
   ],
   "source": [
    "from xgboost import XGBClassifier\n",
    "xgb=XGBClassifier()\n",
    "xgb.fit(x_train,y_train)\n",
    "y_predd=xgb.predict(x_test)"
   ]
  },
  {
   "cell_type": "code",
   "execution_count": 39,
   "id": "35e1a5fb",
   "metadata": {},
   "outputs": [
    {
     "name": "stdout",
     "output_type": "stream",
     "text": [
      "Accuracy is: 1.0\n",
      "Precision is: 1.0\n",
      "Recall is: 1.0\n",
      "F1 Score is: 1.0\n"
     ]
    }
   ],
   "source": [
    "print(\"Accuracy is:\",accuracy_score(y_test,y_predd))\n",
    "print(\"Precision is:\",precision_score(y_test,y_predd,average='weighted'))\n",
    "print(\"Recall is:\",recall_score(y_test,y_predd,average='weighted'))\n",
    "print(\"F1 Score is:\",f1_score(y_test,y_predd,average='weighted'))"
   ]
  },
  {
   "cell_type": "code",
   "execution_count": 40,
   "id": "b73f0dec",
   "metadata": {},
   "outputs": [
    {
     "data": {
      "text/plain": [
       "array([[118,   0,   0,   0,   0,   0],\n",
       "       [  0,  57,   0,   0,   0,   0],\n",
       "       [  0,   0,  57,   0,   0,   0],\n",
       "       [  0,   0,   0, 118,   0,   0],\n",
       "       [  0,   0,   0,   0, 124,   0],\n",
       "       [  0,   0,   0,   0,   0,  37]], dtype=int64)"
      ]
     },
     "execution_count": 40,
     "metadata": {},
     "output_type": "execute_result"
    }
   ],
   "source": [
    "confusion_matrix(y_test,y_predd)"
   ]
  },
  {
   "cell_type": "markdown",
   "id": "7e2da07e",
   "metadata": {},
   "source": [
    "# 4.3 Building the model using Logistic regression"
   ]
  },
  {
   "cell_type": "code",
   "execution_count": 41,
   "id": "a378dd27",
   "metadata": {},
   "outputs": [
    {
     "name": "stderr",
     "output_type": "stream",
     "text": [
      "C:\\Users\\NJ\\anaconda3\\lib\\site-packages\\sklearn\\linear_model\\_logistic.py:763: ConvergenceWarning: lbfgs failed to converge (status=1):\n",
      "STOP: TOTAL NO. of ITERATIONS REACHED LIMIT.\n",
      "\n",
      "Increase the number of iterations (max_iter) or scale the data as shown in:\n",
      "    https://scikit-learn.org/stable/modules/preprocessing.html\n",
      "Please also refer to the documentation for alternative solver options:\n",
      "    https://scikit-learn.org/stable/modules/linear_model.html#logistic-regression\n",
      "  n_iter_i = _check_optimize_result(\n"
     ]
    }
   ],
   "source": [
    "from sklearn.linear_model import LogisticRegression\n",
    "log_r=LogisticRegression()\n",
    "log_r.fit(x_train,y_train)\n",
    "y_preddd=log_r.predict(x_test)"
   ]
  },
  {
   "cell_type": "code",
   "execution_count": 42,
   "id": "95b8a315",
   "metadata": {},
   "outputs": [
    {
     "name": "stdout",
     "output_type": "stream",
     "text": [
      "Accuracy is: 0.8043052837573386\n",
      "Precision is: 0.8024165137976411\n",
      "Recall is: 0.8043052837573386\n",
      "F1 Score is: 0.7984574959889374\n"
     ]
    }
   ],
   "source": [
    "print(\"Accuracy is:\",accuracy_score(y_test,y_preddd))\n",
    "print(\"Precision is:\",precision_score(y_test,y_preddd,average='weighted'))\n",
    "print(\"Recall is:\",recall_score(y_test,y_preddd,average='weighted'))\n",
    "print(\"F1 Score is:\",f1_score(y_test,y_preddd,average='weighted'))"
   ]
  },
  {
   "cell_type": "code",
   "execution_count": 43,
   "id": "51403603",
   "metadata": {},
   "outputs": [
    {
     "data": {
      "text/plain": [
       "array([[114,   4,   0,   0,   0,   0],\n",
       "       [  3,  39,  15,   0,   0,   0],\n",
       "       [  0,   7,  45,   5,   0,   0],\n",
       "       [  0,   1,   7,  99,  11,   0],\n",
       "       [  0,   0,   0,  15, 102,   7],\n",
       "       [  0,   0,   0,   0,  25,  12]], dtype=int64)"
      ]
     },
     "execution_count": 43,
     "metadata": {},
     "output_type": "execute_result"
    }
   ],
   "source": [
    "confusion_matrix(y_test,y_preddd)"
   ]
  },
  {
   "cell_type": "markdown",
   "id": "97d863ba",
   "metadata": {},
   "source": [
    "# 4.4 Building the model using KNN Model"
   ]
  },
  {
   "cell_type": "code",
   "execution_count": 44,
   "id": "100a4bad",
   "metadata": {},
   "outputs": [],
   "source": [
    "from sklearn.neighbors import KNeighborsClassifier\n",
    "acc_values=[]\n",
    "neighbors=np.arange(3,15)\n",
    "for k in neighbors:\n",
    "    classifier = KNeighborsClassifier(n_neighbors=k, metric='minkowski')\n",
    "    classifier.fit(x_train,y_train)\n",
    "    y_predic=classifier.predict(x_test)\n",
    "    acc=accuracy_score(y_test,y_predic)\n",
    "    acc_values.append(acc)"
   ]
  },
  {
   "cell_type": "code",
   "execution_count": 45,
   "id": "5595c6d4",
   "metadata": {},
   "outputs": [
    {
     "data": {
      "text/plain": [
       "[0.7455968688845401,\n",
       " 0.7299412915851272,\n",
       " 0.7553816046966731,\n",
       " 0.7338551859099804,\n",
       " 0.7397260273972602,\n",
       " 0.7318982387475538,\n",
       " 0.726027397260274,\n",
       " 0.7221135029354208,\n",
       " 0.7221135029354208,\n",
       " 0.7221135029354208,\n",
       " 0.7103718199608611,\n",
       " 0.7084148727984344]"
      ]
     },
     "execution_count": 45,
     "metadata": {},
     "output_type": "execute_result"
    }
   ],
   "source": [
    "acc_values"
   ]
  },
  {
   "cell_type": "code",
   "execution_count": 46,
   "id": "81e261f6",
   "metadata": {},
   "outputs": [
    {
     "data": {
      "text/plain": [
       "Text(0, 0.5, 'accuracy')"
      ]
     },
     "execution_count": 46,
     "metadata": {},
     "output_type": "execute_result"
    },
    {
     "data": {
      "image/png": "[encoded data removed]",
      "text/plain": [
       "<Figure size 432x288 with 1 Axes>"
      ]
     },
     "metadata": {
      "needs_background": "light"
     },
     "output_type": "display_data"
    }
   ],
   "source": [
    "plt.plot(neighbors,acc_values,'o-')\n",
    "plt.xlabel('k value')\n",
    "plt.ylabel('accuracy')"
   ]
  },
  {
   "cell_type": "code",
   "execution_count": 96,
   "id": "e3d4127e",
   "metadata": {},
   "outputs": [],
   "source": [
    "classifier = KNeighborsClassifier(n_neighbors=5, metric='minkowski')\n",
    "classifier.fit(x_train,y_train)\n",
    "y_predic=classifier.predict(x_test)"
   ]
  },
  {
   "cell_type": "code",
   "execution_count": 97,
   "id": "4326b088",
   "metadata": {},
   "outputs": [
    {
     "name": "stdout",
     "output_type": "stream",
     "text": [
      "Accuracy is: 0.7553816046966731\n",
      "Precision is: 0.7520683174228086\n",
      "Recall is: 0.7553816046966731\n",
      "F1 Score is: 0.7524256953575595\n"
     ]
    }
   ],
   "source": [
    "print(\"Accuracy is:\",accuracy_score(y_test,y_predic))\n",
    "print(\"Precision is:\",precision_score(y_test,y_predic,average='weighted'))\n",
    "print(\"Recall is:\",recall_score(y_test,y_predic,average='weighted'))\n",
    "print(\"F1 Score is:\",f1_score(y_test,y_predic,average='weighted'))"
   ]
  },
  {
   "cell_type": "code",
   "execution_count": 49,
   "id": "321557c3",
   "metadata": {},
   "outputs": [
    {
     "data": {
      "text/plain": [
       "array([[109,   7,   2,   0,   0,   0],\n",
       "       [ 17,  26,  13,   1,   0,   0],\n",
       "       [  3,  11,  36,   7,   0,   0],\n",
       "       [  3,   2,  10,  89,  14,   0],\n",
       "       [  0,   0,   1,  20,  96,   7],\n",
       "       [  0,   0,   0,   0,  19,  18]], dtype=int64)"
      ]
     },
     "execution_count": 49,
     "metadata": {},
     "output_type": "execute_result"
    }
   ],
   "source": [
    "confusion_matrix(y_test,y_predic)"
   ]
  },
  {
   "cell_type": "markdown",
   "id": "82d7cdb8",
   "metadata": {},
   "source": [
    "# 4.5 Building the model using Decision Tree Model"
   ]
  },
  {
   "cell_type": "code",
   "execution_count": 50,
   "id": "dedaa346",
   "metadata": {},
   "outputs": [],
   "source": [
    "from sklearn.tree import DecisionTreeClassifier\n",
    "dt=DecisionTreeClassifier()\n",
    "dt.fit(x_train,y_train)\n",
    "y_pr=dt.predict(x_test)"
   ]
  },
  {
   "cell_type": "code",
   "execution_count": 51,
   "id": "c3182c94",
   "metadata": {},
   "outputs": [
    {
     "name": "stdout",
     "output_type": "stream",
     "text": [
      "Accuracy is: 1.0\n",
      "Precision is: 1.0\n",
      "Recall is: 1.0\n",
      "F1 Score is: 1.0\n"
     ]
    }
   ],
   "source": [
    "print(\"Accuracy is:\",accuracy_score(y_test,y_pr))\n",
    "print(\"Precision is:\",precision_score(y_test,y_pr,average='weighted'))\n",
    "print(\"Recall is:\",recall_score(y_test,y_pr,average='weighted'))\n",
    "print(\"F1 Score is:\",f1_score(y_test,y_pr,average='weighted'))"
   ]
  },
  {
   "cell_type": "code",
   "execution_count": 52,
   "id": "3958ca78",
   "metadata": {},
   "outputs": [
    {
     "data": {
      "text/plain": [
       "array([[118,   0,   0,   0,   0,   0],\n",
       "       [  0,  57,   0,   0,   0,   0],\n",
       "       [  0,   0,  57,   0,   0,   0],\n",
       "       [  0,   0,   0, 118,   0,   0],\n",
       "       [  0,   0,   0,   0, 124,   0],\n",
       "       [  0,   0,   0,   0,   0,  37]], dtype=int64)"
      ]
     },
     "execution_count": 52,
     "metadata": {},
     "output_type": "execute_result"
    }
   ],
   "source": [
    "confusion_matrix(y_test,y_pr)"
   ]
  },
  {
   "cell_type": "markdown",
   "id": "0a36ea51",
   "metadata": {},
   "source": [
    "# 4.6 Building the model using SVM Model"
   ]
  },
  {
   "cell_type": "code",
   "execution_count": 53,
   "id": "e6b92f00",
   "metadata": {},
   "outputs": [],
   "source": [
    "from sklearn.svm import SVC"
   ]
  },
  {
   "cell_type": "markdown",
   "id": "91976a0e",
   "metadata": {},
   "source": [
    "# 4.6.1 Linear SVM"
   ]
  },
  {
   "cell_type": "code",
   "execution_count": 54,
   "id": "7bdb2b68",
   "metadata": {},
   "outputs": [],
   "source": [
    "svm_linear=SVC(kernel='linear')\n",
    "svm_linear.fit(x_train,y_train)\n",
    "y_pre=svm_linear.predict(x_test)"
   ]
  },
  {
   "cell_type": "code",
   "execution_count": 55,
   "id": "8e139c48",
   "metadata": {},
   "outputs": [
    {
     "name": "stdout",
     "output_type": "stream",
     "text": [
      "Accuracy is: 0.9021526418786693\n",
      "Precision is: 0.9043306125069396\n",
      "Recall is: 0.9021526418786693\n",
      "F1 Score is: 0.9005066030026683\n"
     ]
    }
   ],
   "source": [
    "print(\"Accuracy is:\",accuracy_score(y_test,y_pre))\n",
    "print(\"Precision is:\",precision_score(y_test,y_pre,average='weighted'))\n",
    "print(\"Recall is:\",recall_score(y_test,y_pre,average='weighted'))\n",
    "print(\"F1 Score is:\",f1_score(y_test,y_pre,average='weighted'))"
   ]
  },
  {
   "cell_type": "code",
   "execution_count": 56,
   "id": "d9262237",
   "metadata": {},
   "outputs": [
    {
     "data": {
      "text/plain": [
       "array([[114,   4,   0,   0,   0,   0],\n",
       "       [  2,  52,   3,   0,   0,   0],\n",
       "       [  0,   5,  51,   1,   0,   0],\n",
       "       [  0,   0,   2, 107,   9,   0],\n",
       "       [  0,   0,   0,   3, 116,   5],\n",
       "       [  0,   0,   0,   0,  16,  21]], dtype=int64)"
      ]
     },
     "execution_count": 56,
     "metadata": {},
     "output_type": "execute_result"
    }
   ],
   "source": [
    "confusion_matrix(y_test,y_pre)"
   ]
  },
  {
   "cell_type": "markdown",
   "id": "20e487e0",
   "metadata": {},
   "source": [
    "# 4.6.2 Polynomial SVM"
   ]
  },
  {
   "cell_type": "code",
   "execution_count": 57,
   "id": "0e86e5ae",
   "metadata": {},
   "outputs": [],
   "source": [
    "svm_poly=SVC(kernel='poly',degree=3)\n",
    "svm_poly.fit(x_train,y_train)\n",
    "y_pre1=svm_poly.predict(x_test)"
   ]
  },
  {
   "cell_type": "code",
   "execution_count": 58,
   "id": "ea01c731",
   "metadata": {},
   "outputs": [
    {
     "name": "stdout",
     "output_type": "stream",
     "text": [
      "Accuracy is: 0.7045009784735812\n",
      "Precision is: 0.6695747073723816\n",
      "Recall is: 0.7045009784735812\n",
      "F1 Score is: 0.679639980745755\n"
     ]
    },
    {
     "name": "stderr",
     "output_type": "stream",
     "text": [
      "C:\\Users\\NJ\\anaconda3\\lib\\site-packages\\sklearn\\metrics\\_classification.py:1245: UndefinedMetricWarning: Precision is ill-defined and being set to 0.0 in labels with no predicted samples. Use `zero_division` parameter to control this behavior.\n",
      "  _warn_prf(average, modifier, msg_start, len(result))\n"
     ]
    }
   ],
   "source": [
    "print(\"Accuracy is:\",accuracy_score(y_test,y_pre1))\n",
    "print(\"Precision is:\",precision_score(y_test,y_pre1,average='weighted'))\n",
    "print(\"Recall is:\",recall_score(y_test,y_pre1,average='weighted'))\n",
    "print(\"F1 Score is:\",f1_score(y_test,y_pre1,average='weighted'))"
   ]
  },
  {
   "cell_type": "code",
   "execution_count": 59,
   "id": "a090dc5a",
   "metadata": {},
   "outputs": [
    {
     "data": {
      "text/plain": [
       "array([[106,   4,   8,   0,   0,   0],\n",
       "       [  8,  27,  22,   0,   0,   0],\n",
       "       [  0,   5,  38,  14,   0,   0],\n",
       "       [  1,   1,  13,  86,  17,   0],\n",
       "       [  0,   0,   0,  21, 103,   0],\n",
       "       [  0,   0,   0,   1,  36,   0]], dtype=int64)"
      ]
     },
     "execution_count": 59,
     "metadata": {},
     "output_type": "execute_result"
    }
   ],
   "source": [
    "confusion_matrix(y_test,y_pre1)"
   ]
  },
  {
   "cell_type": "markdown",
   "id": "9914eb66",
   "metadata": {},
   "source": [
    "# 4.6.3 Radial SVM"
   ]
  },
  {
   "cell_type": "code",
   "execution_count": 60,
   "id": "6ad89cf1",
   "metadata": {},
   "outputs": [],
   "source": [
    "svm_rad=SVC(kernel='rbf')\n",
    "svm_rad.fit(x_train,y_train)\n",
    "y_pre2=svm_rad.predict(x_test)"
   ]
  },
  {
   "cell_type": "code",
   "execution_count": 61,
   "id": "3b70541f",
   "metadata": {},
   "outputs": [
    {
     "name": "stdout",
     "output_type": "stream",
     "text": [
      "Accuracy is: 0.7416829745596869\n",
      "Precision is: 0.6906964930555762\n",
      "Recall is: 0.7416829745596869\n",
      "F1 Score is: 0.7131883886805034\n"
     ]
    },
    {
     "name": "stderr",
     "output_type": "stream",
     "text": [
      "C:\\Users\\NJ\\anaconda3\\lib\\site-packages\\sklearn\\metrics\\_classification.py:1245: UndefinedMetricWarning: Precision is ill-defined and being set to 0.0 in labels with no predicted samples. Use `zero_division` parameter to control this behavior.\n",
      "  _warn_prf(average, modifier, msg_start, len(result))\n"
     ]
    }
   ],
   "source": [
    "print(\"Accuracy is:\",accuracy_score(y_test,y_pre2))\n",
    "print(\"Precision is:\",precision_score(y_test,y_pre2,average='weighted'))\n",
    "print(\"Recall is:\",recall_score(y_test,y_pre2,average='weighted'))\n",
    "print(\"F1 Score is:\",f1_score(y_test,y_pre2,average='weighted'))"
   ]
  },
  {
   "cell_type": "code",
   "execution_count": 62,
   "id": "ba12292b",
   "metadata": {},
   "outputs": [
    {
     "data": {
      "text/plain": [
       "array([[112,   6,   0,   0,   0,   0],\n",
       "       [ 11,  36,  10,   0,   0,   0],\n",
       "       [  0,  11,  39,   7,   0,   0],\n",
       "       [  4,   0,  13,  87,  14,   0],\n",
       "       [  0,   0,   0,  19, 105,   0],\n",
       "       [  0,   0,   0,   0,  37,   0]], dtype=int64)"
      ]
     },
     "execution_count": 62,
     "metadata": {},
     "output_type": "execute_result"
    }
   ],
   "source": [
    "confusion_matrix(y_test,y_pre2)"
   ]
  },
  {
   "cell_type": "markdown",
   "id": "6767b909",
   "metadata": {},
   "source": [
    "# Insight"
   ]
  },
  {
   "cell_type": "markdown",
   "id": "d0507b59",
   "metadata": {},
   "source": [
    "### The Gradient boosting ,Extreme gradient boosting and Decision tree model has the highest vaules.\n",
    "    Accuracy is: 1\n",
    "    Precision is: 1\n",
    "    Recall is: 1\n",
    "    F1 Score is: 1"
   ]
  },
  {
   "cell_type": "markdown",
   "id": "1a371d9a",
   "metadata": {},
   "source": [
    "# 5. Model FineTuning"
   ]
  },
  {
   "cell_type": "markdown",
   "id": "47bdb331",
   "metadata": {},
   "source": [
    "# 5.1 Random forest classifier hyperparameter tuning"
   ]
  },
  {
   "cell_type": "code",
   "execution_count": 82,
   "id": "869b8fc6",
   "metadata": {},
   "outputs": [],
   "source": [
    "rf_hyp=RandomForestClassifier(random_state=42,criterion='entropy')"
   ]
  },
  {
   "cell_type": "code",
   "execution_count": 83,
   "id": "5b91281b",
   "metadata": {},
   "outputs": [],
   "source": [
    "rf_hyp.fit(x_train,y_train)\n",
    "y_pred=rf_hyp.predict(x_test)"
   ]
  },
  {
   "cell_type": "code",
   "execution_count": 84,
   "id": "67c06f52",
   "metadata": {},
   "outputs": [
    {
     "name": "stdout",
     "output_type": "stream",
     "text": [
      "Accuracy is: 0.9863013698630136\n",
      "Precision is: 0.9863252233230361\n",
      "Recall is: 0.9863013698630136\n",
      "F1 Score is: 0.9862010319878486\n"
     ]
    }
   ],
   "source": [
    "print(\"Accuracy is:\",accuracy_score(y_test,y_pred))\n",
    "print(\"Precision is:\",precision_score(y_test,y_pred,average='weighted'))\n",
    "print(\"Recall is:\",recall_score(y_test,y_pred,average='weighted'))\n",
    "print(\"F1 Score is:\",f1_score(y_test,y_pred,average='weighted'))"
   ]
  },
  {
   "cell_type": "code",
   "execution_count": 87,
   "id": "493b4910",
   "metadata": {},
   "outputs": [
    {
     "name": "stdout",
     "output_type": "stream",
     "text": [
      "The old model had less accuracy:\n",
      "Accuracy is: 0.9823874755381604\n",
      "Precision is: 0.9826226752600273\n",
      "Recall is: 0.9823874755381604\n",
      "F1 Score is: 0.9823218952979003\n"
     ]
    }
   ],
   "source": [
    "print('The old model had less accuracy:\\nAccuracy is: 0.9823874755381604\\nPrecision is: 0.9826226752600273\\nRecall is: 0.9823874755381604\\nF1 Score is: 0.9823218952979003')"
   ]
  },
  {
   "cell_type": "markdown",
   "id": "2c87430c",
   "metadata": {},
   "source": [
    "# Insight\n",
    "## Hence Random forest classifier model is fine tuned using hyper parameters and accuracy is improved.\n",
    "## Since the accuracy values are already 1 for 3 of the models. There is no requirement for fine tuning using hyperparameters for the Gradient boosting ,Extreme gradient boosting and Decision tree models"
   ]
  }
 ],
 "metadata": {
  "kernelspec": {
   "display_name": "Python 3",
   "language": "python",
   "name": "python3"
  },
  "language_info": {
   "codemirror_mode": {
    "name": "ipython",
    "version": 3
   },
   "file_extension": ".py",
   "mimetype": "text/x-python",
   "name": "python",
   "nbconvert_exporter": "python",
   "pygments_lexer": "ipython3",
   "version": "3.8.8"
  }
 },
 "nbformat": 4,
 "nbformat_minor": 5
}
